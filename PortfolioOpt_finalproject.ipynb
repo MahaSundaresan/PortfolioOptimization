{
 "cells": [
  {
   "cell_type": "markdown",
   "metadata": {},
   "source": [
    "## Portfolio Optimization"
   ]
  },
  {
   "cell_type": "markdown",
   "metadata": {},
   "source": [
    "CS524: Introduction to Optimization\n",
    "> Team: MAHALAKSHMI SUNDARESAN <msundaresan2@wisc.edu> and  MEHMET MUSTAFA MUSABEYLI <musabeyli@wisc.edu>"
   ]
  },
  {
   "cell_type": "markdown",
   "metadata": {},
   "source": [
    "## Introduction"
   ]
  },
  {
   "cell_type": "markdown",
   "metadata": {},
   "source": [
    "Optimization’s main goal can be determined as the “best” decision from a set of possible decisions. What’s more applicable than to apply this concept in determining which stocks to invest in? We have identified 10 different companies. Namely these companies are: \n",
    "\n",
    ">nordStorm, ctlStock, MylanStock, MacyStock, Kohls, AMD, MKTX, Netflix, Disney, Eros"
   ]
  },
  {
   "cell_type": "markdown",
   "metadata": {},
   "source": [
    "The data is obtained through https://www.tiingo.com 's free public available APIs."
   ]
  },
  {
   "cell_type": "markdown",
   "metadata": {},
   "source": [
    "## What are we doing?"
   ]
  },
  {
   "cell_type": "markdown",
   "metadata": {},
   "source": [
    "We are trying to optimize which and how many companies we should invest our limited budget of 1000$ to obtain our targets, namely 100 dollars and 50 dollars.\n"
   ]
  },
  {
   "cell_type": "markdown",
   "metadata": {},
   "source": [
    "# This model answers the following questions:\n",
    "    1. Is it better to invest in 3 or 4 stocks?\n",
    "    2. Is setting a higher target of 100 dollars advisable/realizable?\n",
    "    3. Will diversification of the portfolio yield a better gain?"
   ]
  },
  {
   "cell_type": "markdown",
   "metadata": {},
   "source": [
    "## Description"
   ]
  },
  {
   "cell_type": "markdown",
   "metadata": {},
   "source": [
    "This model, first gets the data, 2016-10-10 to 2018-10-10 end of day stock listing prices, from Tiingo's publicly avaialable Stock Price APIs. Then, through calculating covariance and mean, our GAMS model which is based on Markowitz model, is going to optimize which stocks should we choose by minimizing the risk(variance) as stated in the Markowitz model. "
   ]
  },
  {
   "cell_type": "markdown",
   "metadata": {},
   "source": [
    "Then, we will do a prediction over the period of 30 days to get the end of day stock prices of November 9th 2018 using two methods: moving average and linear regression."
   ]
  },
  {
   "cell_type": "markdown",
   "metadata": {},
   "source": [
    "We will assume that the investor will buy on 10th October 2018 and sell it on 9th of November 2018. So the profit or loss will be calculated through deducting the price of stock on 9th of November from 10th of October multiplied by number of shares bought based upon our GAMS model."
   ]
  },
  {
   "cell_type": "code",
   "execution_count": 1,
   "metadata": {},
   "outputs": [],
   "source": [
    "#Required for projections\n",
    "import quandl\n",
    "import numpy as np "
   ]
  },
  {
   "cell_type": "code",
   "execution_count": 2,
   "metadata": {},
   "outputs": [
    {
     "name": "stdout",
     "output_type": "stream",
     "text": [
      "Requirement already satisfied: scikit-learn in ./.local/lib/python3.6/site-packages (0.22)\n",
      "Requirement already satisfied: joblib>=0.11 in ./.local/lib/python3.6/site-packages (from scikit-learn) (0.14.1)\n",
      "Requirement already satisfied: scipy>=0.17.0 in /opt/miniconda3/envs/JupyterHub/lib/python3.6/site-packages (from scikit-learn) (1.3.1)\n",
      "Requirement already satisfied: numpy>=1.11.0 in /opt/miniconda3/envs/JupyterHub/lib/python3.6/site-packages (from scikit-learn) (1.16.4)\n"
     ]
    }
   ],
   "source": [
    "%%bash\n",
    "pip install scikit-learn --user"
   ]
  },
  {
   "cell_type": "code",
   "execution_count": 3,
   "metadata": {},
   "outputs": [],
   "source": [
    "#Required for projections\n",
    "from sklearn.linear_model import LinearRegression\n",
    "from sklearn.svm import SVR\n",
    "from sklearn.model_selection import train_test_split"
   ]
  },
  {
   "cell_type": "code",
   "execution_count": 4,
   "metadata": {},
   "outputs": [],
   "source": [
    "%load_ext gams_magic\n",
    "import pandas as pd\n",
    "import numpy as np\n",
    "import matplotlib.pyplot as plt"
   ]
  },
  {
   "cell_type": "code",
   "execution_count": 5,
   "metadata": {},
   "outputs": [
    {
     "data": {
      "text/html": [
       "<div>\n",
       "<style scoped>\n",
       "    .dataframe tbody tr th:only-of-type {\n",
       "        vertical-align: middle;\n",
       "    }\n",
       "\n",
       "    .dataframe tbody tr th {\n",
       "        vertical-align: top;\n",
       "    }\n",
       "\n",
       "    .dataframe thead th {\n",
       "        text-align: right;\n",
       "    }\n",
       "</style>\n",
       "<table border=\"1\" class=\"dataframe\">\n",
       "  <thead>\n",
       "    <tr style=\"text-align: right;\">\n",
       "      <th></th>\n",
       "      <th>Solver Status</th>\n",
       "      <th>Model Status</th>\n",
       "      <th>Objective</th>\n",
       "      <th>#equ</th>\n",
       "      <th>#var</th>\n",
       "      <th>Model Type</th>\n",
       "      <th>Solver</th>\n",
       "      <th>Solver Time</th>\n",
       "    </tr>\n",
       "  </thead>\n",
       "  <tbody>\n",
       "    <tr>\n",
       "      <td>0</td>\n",
       "      <td>Normal (1)</td>\n",
       "      <td>OptimalLocal (2)</td>\n",
       "      <td>20.0078</td>\n",
       "      <td>3</td>\n",
       "      <td>11</td>\n",
       "      <td>QCP</td>\n",
       "      <td>CONOPT</td>\n",
       "      <td>0.001</td>\n",
       "    </tr>\n",
       "    <tr>\n",
       "      <td>1</td>\n",
       "      <td>Normal (1)</td>\n",
       "      <td>OptimalLocal (2)</td>\n",
       "      <td>3.3691</td>\n",
       "      <td>3</td>\n",
       "      <td>11</td>\n",
       "      <td>QCP</td>\n",
       "      <td>CONOPT</td>\n",
       "      <td>0.002</td>\n",
       "    </tr>\n",
       "  </tbody>\n",
       "</table>\n",
       "</div>"
      ],
      "text/plain": [
       "  Solver Status      Model Status  Objective #equ #var Model Type  Solver  \\\n",
       "0    Normal (1)  OptimalLocal (2)    20.0078    3   11        QCP  CONOPT   \n",
       "1    Normal (1)  OptimalLocal (2)     3.3691    3   11        QCP  CONOPT   \n",
       "\n",
       "  Solver Time  \n",
       "0       0.001  \n",
       "1       0.002  "
      ]
     },
     "execution_count": 5,
     "metadata": {},
     "output_type": "execute_result"
    }
   ],
   "source": [
    "%%gams\n",
    "set i \"companies\"/nordStorm,ctlStock,MylanStock,MacyStock,Kohls,AMD,MKTX,Netflix,Disney,Eros /;\n",
    "parameter mean(i) \"mean of each company's stock calculated over two years\"\n",
    "                / nordStorm   48.86\n",
    "                  ctlStock   21.11\n",
    "                  MylanStock 38.43\n",
    "                  MacyStock    29.39\n",
    "                  Kohls 52.63\n",
    "                  AMD 12.71\n",
    "                  MKTX 190.089\n",
    "                  Netflix 217.16\n",
    "                  Disney 105.29\n",
    "                  Eros 12.17\n",
    "                /;\n",
    "                \n",
    "alias (i,j);\n",
    "*covariance matrix is obtained through Excel. \n",
    "table cov(i,j) \"covariance\"\n",
    "              nordStorm    ctlStock  MylanStock   MacyStock  Kohls     AMD      MKTX    Netflix   Disney  Eros\n",
    "   nordStorm        31.44\n",
    "   ctlStock          2.66   12.43\n",
    "   MylanStock        0.03   -1.32    9.69\n",
    "   MacyStock        26.51    6.13    2.03          43.65\n",
    "   Kohls            55.92   -20.7    8.86          52.99      192.03\n",
    "   AMD              14.74   -0.52   -0.65           7.11      37.92    23.98\n",
    "   MKTX             -8.76  -32.17   17.2          -22.97      78.24    12.57   283.15\n",
    "   Netflix         229.66 -171.57   31.92         185.5       1114.64  264.08  869.81   8311.81\n",
    "   Disney            3.61    1.98    5.62           3.51      14.52    15.34    22.65   103.67      32.65\n",
    "   Eros              4.13    0.5    -0.64           6.45       6.75    -0.77   -12.76    15.33      -5.69   4.02;\n",
    "\n",
    "positive variable x1(i)\"portion to be invested for the company i for roi1\";\n",
    "positive variable x(i)\"portion to be invested for the company i for roi2\";\n",
    "variables risk1,risk2;\n",
    "scalar roi1 \"return \" / 100 /, roi2 / 50 /;\n",
    "equation totstock1,totstock2,expreturn1,expreturn2,riskfactor1,riskfactor2;\n",
    "\n",
    "*finds the risk associated with the model based on Markowitz\n",
    "riskfactor1..\n",
    "risk1=e=sum(i, x1(i)*sum(j,cov(i,j)*x1(j)));\n",
    "riskfactor2..\n",
    "risk2=e=sum(i, x(i)*sum(j,cov(i,j)*x(j)));\n",
    "\n",
    "*percentage of investment spent on each stock\n",
    "totstock1..\n",
    "sum(i, x1(i))=e=1;\n",
    "totstock2..\n",
    "sum(i, x(i))=e=1;\n",
    "\n",
    "*calculates the expected return based on target set.\n",
    "expreturn1..\n",
    "sum(i, mean(i)*x1(i))=g=roi1;\n",
    "expreturn2..\n",
    "sum(i, mean(i)*x(i))=g=roi2;\n",
    "\n",
    "model portfolio1  /totstock1,expreturn1,riskfactor1 /;\n",
    "solve portfolio1 using qcp minimizing risk1;\n",
    "\n",
    "model portfolio2  /totstock2,expreturn2,riskfactor2 /;\n",
    "solve portfolio2 using qcp minimizing risk2;"
   ]
  },
  {
   "cell_type": "code",
   "execution_count": 6,
   "metadata": {},
   "outputs": [],
   "source": [
    "%%gams\n",
    "scalar choose_stocks1 \"number of stocks to invest in\" / 4 /,choose_stocks2 /3/;\n",
    "\n",
    "binary variables select1(i),select2(i);\n",
    "equation eq1,eq2, stocks_chosen1,stocks_chosen2, stocks_chosen3,stocks_chosen4;\n",
    "\n",
    "*decide if the stock should be on portfolio\n",
    "eq1(i)..\n",
    "x1(i) =l= select1(i);\n",
    "eq2(i)..\n",
    "x(i) =l= select2(i);\n",
    "\n",
    "*number of stocks chosen should be equal to constraints\n",
    "*for 4\n",
    "stocks_chosen1..\n",
    "sum(i, select1(i)) =e= choose_stocks1;\n",
    "stocks_chosen2..\n",
    "sum(i, select2(i)) =e= choose_stocks1;\n",
    "\n",
    "*for 3\n",
    "stocks_chosen3..\n",
    "sum(i, select1(i)) =e= choose_stocks2;\n",
    "stocks_chosen4..\n",
    "sum(i, select2(i)) =e= choose_stocks2;\n",
    "\n"
   ]
  },
  {
   "cell_type": "markdown",
   "metadata": {},
   "source": [
    "# Let's see if 4 Stocks can return the objective of 100 with a budget of 1000."
   ]
  },
  {
   "cell_type": "code",
   "execution_count": 7,
   "metadata": {},
   "outputs": [
    {
     "data": {
      "text/html": [
       "<div>\n",
       "<style scoped>\n",
       "    .dataframe tbody tr th:only-of-type {\n",
       "        vertical-align: middle;\n",
       "    }\n",
       "\n",
       "    .dataframe tbody tr th {\n",
       "        vertical-align: top;\n",
       "    }\n",
       "\n",
       "    .dataframe thead th {\n",
       "        text-align: right;\n",
       "    }\n",
       "</style>\n",
       "<table border=\"1\" class=\"dataframe\">\n",
       "  <thead>\n",
       "    <tr style=\"text-align: right;\">\n",
       "      <th></th>\n",
       "      <th>Solver Status</th>\n",
       "      <th>Model Status</th>\n",
       "      <th>Objective</th>\n",
       "      <th>#equ</th>\n",
       "      <th>#var</th>\n",
       "      <th>Model Type</th>\n",
       "      <th>Solver</th>\n",
       "      <th>Solver Time</th>\n",
       "    </tr>\n",
       "  </thead>\n",
       "  <tbody>\n",
       "    <tr>\n",
       "      <td>0</td>\n",
       "      <td>Normal (1)</td>\n",
       "      <td>Integer (8)</td>\n",
       "      <td>20.0147</td>\n",
       "      <td>14</td>\n",
       "      <td>21</td>\n",
       "      <td>MIQCP</td>\n",
       "      <td>SBB</td>\n",
       "      <td>0.164</td>\n",
       "    </tr>\n",
       "  </tbody>\n",
       "</table>\n",
       "</div>"
      ],
      "text/plain": [
       "  Solver Status Model Status  Objective #equ #var Model Type Solver  \\\n",
       "0    Normal (1)  Integer (8)    20.0147   14   21      MIQCP    SBB   \n",
       "\n",
       "  Solver Time  \n",
       "0       0.164  "
      ]
     },
     "execution_count": 7,
     "metadata": {},
     "output_type": "execute_result"
    }
   ],
   "source": [
    "%%gams\n",
    "model type1portfolio \"return of 100 with 4 stocks\" / totstock1,expreturn1,riskfactor1,eq1,stocks_chosen1/;  \n",
    "option optCr = 1e-6;\n",
    "solve type1portfolio  using miqcp minimizing risk1;\n",
    "display x1.l;\n"
   ]
  },
  {
   "cell_type": "code",
   "execution_count": 8,
   "metadata": {},
   "outputs": [
    {
     "data": {
      "text/html": [
       "<div>\n",
       "<style scoped>\n",
       "    .dataframe tbody tr th:only-of-type {\n",
       "        vertical-align: middle;\n",
       "    }\n",
       "\n",
       "    .dataframe tbody tr th {\n",
       "        vertical-align: top;\n",
       "    }\n",
       "\n",
       "    .dataframe thead th {\n",
       "        text-align: right;\n",
       "    }\n",
       "</style>\n",
       "<table border=\"1\" class=\"dataframe\">\n",
       "  <thead>\n",
       "    <tr style=\"text-align: right;\">\n",
       "      <th></th>\n",
       "      <th>level</th>\n",
       "      <th>marginal</th>\n",
       "      <th>lower</th>\n",
       "      <th>upper</th>\n",
       "      <th>scale</th>\n",
       "    </tr>\n",
       "    <tr>\n",
       "      <th>i</th>\n",
       "      <th></th>\n",
       "      <th></th>\n",
       "      <th></th>\n",
       "      <th></th>\n",
       "      <th></th>\n",
       "    </tr>\n",
       "  </thead>\n",
       "  <tbody>\n",
       "    <tr>\n",
       "      <td>MylanStock</td>\n",
       "      <td>0.087243</td>\n",
       "      <td>0.000000e+00</td>\n",
       "      <td>0.0</td>\n",
       "      <td>inf</td>\n",
       "      <td>1.0</td>\n",
       "    </tr>\n",
       "    <tr>\n",
       "      <td>MKTX</td>\n",
       "      <td>0.131840</td>\n",
       "      <td>0.000000e+00</td>\n",
       "      <td>0.0</td>\n",
       "      <td>inf</td>\n",
       "      <td>1.0</td>\n",
       "    </tr>\n",
       "    <tr>\n",
       "      <td>nordStorm</td>\n",
       "      <td>0.188496</td>\n",
       "      <td>4.940656e-324</td>\n",
       "      <td>0.0</td>\n",
       "      <td>inf</td>\n",
       "      <td>1.0</td>\n",
       "    </tr>\n",
       "    <tr>\n",
       "      <td>Disney</td>\n",
       "      <td>0.592421</td>\n",
       "      <td>4.940656e-324</td>\n",
       "      <td>0.0</td>\n",
       "      <td>inf</td>\n",
       "      <td>1.0</td>\n",
       "    </tr>\n",
       "  </tbody>\n",
       "</table>\n",
       "</div>"
      ],
      "text/plain": [
       "               level       marginal  lower  upper  scale\n",
       "i                                                       \n",
       "MylanStock  0.087243   0.000000e+00    0.0    inf    1.0\n",
       "MKTX        0.131840   0.000000e+00    0.0    inf    1.0\n",
       "nordStorm   0.188496  4.940656e-324    0.0    inf    1.0\n",
       "Disney      0.592421  4.940656e-324    0.0    inf    1.0"
      ]
     },
     "execution_count": 8,
     "metadata": {},
     "output_type": "execute_result"
    }
   ],
   "source": [
    "%gams_pull -d  x1\n",
    "soln=x1.loc[x1['level'] > 0]\n",
    "soln.set_index('i',inplace=True)\n",
    "soln.sort_values(by='level')"
   ]
  },
  {
   "cell_type": "code",
   "execution_count": 9,
   "metadata": {},
   "outputs": [
    {
     "data": {
      "image/png": "[encoded data removed]",
      "text/plain": [
       "<Figure size 432x288 with 1 Axes>"
      ]
     },
     "metadata": {},
     "output_type": "display_data"
    }
   ],
   "source": [
    "showx = x1.loc[x1['level'] > 0]\n",
    "labels = showx['i']\n",
    "sizes = showx['level']\n",
    "colors = ['yellowgreen', 'gold', 'lightskyblue', 'lightcoral']\n",
    "patches, texts = plt.pie(sizes, colors=colors, shadow=True, startangle=90)\n",
    "plt.legend(patches, labels, loc=\"best\")\n",
    "plt.title('Percentage of 1000 Dollar invested in Stocks to Obtain 100$ return(10%) with 4 stocks')\n",
    "plt.axis('equal')\n",
    "plt.tight_layout()\n",
    "plt.show()"
   ]
  },
  {
   "cell_type": "code",
   "execution_count": 10,
   "metadata": {},
   "outputs": [
    {
     "name": "stdout",
     "output_type": "stream",
     "text": [
      "-10.189685359409056\n"
     ]
    },
    {
     "name": "stderr",
     "output_type": "stream",
     "text": [
      "/opt/miniconda3/envs/JupyterHub/lib/python3.6/site-packages/IPython/core/interactiveshell.py:3058: DtypeWarning: Columns (0) have mixed types. Specify dtype option on import or set low_memory=False.\n",
      "  interactivity=interactivity, compiler=compiler, result=result)\n"
     ]
    }
   ],
   "source": [
    "##Predicting the next 30days using Moving Average from for 4 stocks with the objective of 100$\n",
    "\n",
    "# reading the data\n",
    "df = pd.read_csv('CLOSEDATA.csv')\n",
    "index_count = 0\n",
    "# setting up the dateFrame and data variable\n",
    "df['Date'] = pd.to_datetime(df.Date,format='%d-%m-%Y')\n",
    "df.index = df['Date']\n",
    "data = df.sort_index(ascending=True, axis=0)\n",
    "\n",
    "#1000$ investment\n",
    "budget = 1000\n",
    "movAverageprofit = 0\n",
    "pd.options.display.max_columns=None\n",
    "\n",
    "\n",
    "#companies used for analysis\n",
    "companies = [\"nordStorm\",\"ctlStock\",\"MylanStock\",\"MacyStock\",\"Kohls\",\"AMD\",\"MKTX\",\"Netflix\",\"Disney\",\"Eros\"]\n",
    "#closing Price Data at 10-10-2018\n",
    "ClosingPriceData = []\n",
    "\n",
    "#calculate the moving average\n",
    "for company in companies:\n",
    "    ClosingPriceData.append(data[\"10/10/2018\"][company])\n",
    "    train = data[:506][company]\n",
    "    preds = []\n",
    "    for mm in range(0,30):\n",
    "        a = train[:len(train)].sum() + sum(preds)\n",
    "        b = a/len(train)\n",
    "        preds.append(b)\n",
    "        \n",
    "    #preds[29] is the closing price after 30 days\n",
    "    numShares = budget * x1[\"level\"][index_count] / ClosingPriceData[index_count][0]\n",
    "    movAverageprofit += (preds[29] -  ClosingPriceData[index_count][0] ) * numShares\n",
    "    index_count += 1    \n",
    "\n",
    "\n",
    "print(movAverageprofit)"
   ]
  },
  {
   "cell_type": "code",
   "execution_count": 11,
   "metadata": {},
   "outputs": [
    {
     "name": "stderr",
     "output_type": "stream",
     "text": [
      "/opt/miniconda3/envs/JupyterHub/lib/python3.6/site-packages/pandas/core/indexing.py:205: SettingWithCopyWarning: \n",
      "A value is trying to be set on a copy of a slice from a DataFrame\n",
      "\n",
      "See the caveats in the documentation: http://pandas.pydata.org/pandas-docs/stable/user_guide/indexing.html#returning-a-view-versus-a-copy\n",
      "  self._setitem_with_indexer(indexer, value)\n",
      "/opt/miniconda3/envs/JupyterHub/lib/python3.6/site-packages/IPython/core/interactiveshell.py:3326: SettingWithCopyWarning: \n",
      "A value is trying to be set on a copy of a slice from a DataFrame\n",
      "\n",
      "See the caveats in the documentation: http://pandas.pydata.org/pandas-docs/stable/user_guide/indexing.html#returning-a-view-versus-a-copy\n",
      "  exec(code_obj, self.user_global_ns, self.user_ns)\n",
      "/opt/miniconda3/envs/JupyterHub/lib/python3.6/site-packages/pandas/core/indexing.py:205: SettingWithCopyWarning: \n",
      "A value is trying to be set on a copy of a slice from a DataFrame\n",
      "\n",
      "See the caveats in the documentation: http://pandas.pydata.org/pandas-docs/stable/user_guide/indexing.html#returning-a-view-versus-a-copy\n",
      "  self._setitem_with_indexer(indexer, value)\n",
      "/opt/miniconda3/envs/JupyterHub/lib/python3.6/site-packages/IPython/core/interactiveshell.py:3326: SettingWithCopyWarning: \n",
      "A value is trying to be set on a copy of a slice from a DataFrame\n",
      "\n",
      "See the caveats in the documentation: http://pandas.pydata.org/pandas-docs/stable/user_guide/indexing.html#returning-a-view-versus-a-copy\n",
      "  exec(code_obj, self.user_global_ns, self.user_ns)\n",
      "/opt/miniconda3/envs/JupyterHub/lib/python3.6/site-packages/pandas/core/indexing.py:205: SettingWithCopyWarning: \n",
      "A value is trying to be set on a copy of a slice from a DataFrame\n",
      "\n",
      "See the caveats in the documentation: http://pandas.pydata.org/pandas-docs/stable/user_guide/indexing.html#returning-a-view-versus-a-copy\n",
      "  self._setitem_with_indexer(indexer, value)\n",
      "/opt/miniconda3/envs/JupyterHub/lib/python3.6/site-packages/IPython/core/interactiveshell.py:3326: SettingWithCopyWarning: \n",
      "A value is trying to be set on a copy of a slice from a DataFrame\n",
      "\n",
      "See the caveats in the documentation: http://pandas.pydata.org/pandas-docs/stable/user_guide/indexing.html#returning-a-view-versus-a-copy\n",
      "  exec(code_obj, self.user_global_ns, self.user_ns)\n",
      "/opt/miniconda3/envs/JupyterHub/lib/python3.6/site-packages/pandas/core/indexing.py:205: SettingWithCopyWarning: \n",
      "A value is trying to be set on a copy of a slice from a DataFrame\n",
      "\n",
      "See the caveats in the documentation: http://pandas.pydata.org/pandas-docs/stable/user_guide/indexing.html#returning-a-view-versus-a-copy\n",
      "  self._setitem_with_indexer(indexer, value)\n",
      "/opt/miniconda3/envs/JupyterHub/lib/python3.6/site-packages/IPython/core/interactiveshell.py:3326: SettingWithCopyWarning: \n",
      "A value is trying to be set on a copy of a slice from a DataFrame\n",
      "\n",
      "See the caveats in the documentation: http://pandas.pydata.org/pandas-docs/stable/user_guide/indexing.html#returning-a-view-versus-a-copy\n",
      "  exec(code_obj, self.user_global_ns, self.user_ns)\n"
     ]
    },
    {
     "name": "stdout",
     "output_type": "stream",
     "text": [
      "[-25.32088255]\n"
     ]
    },
    {
     "name": "stderr",
     "output_type": "stream",
     "text": [
      "/opt/miniconda3/envs/JupyterHub/lib/python3.6/site-packages/pandas/core/indexing.py:205: SettingWithCopyWarning: \n",
      "A value is trying to be set on a copy of a slice from a DataFrame\n",
      "\n",
      "See the caveats in the documentation: http://pandas.pydata.org/pandas-docs/stable/user_guide/indexing.html#returning-a-view-versus-a-copy\n",
      "  self._setitem_with_indexer(indexer, value)\n",
      "/opt/miniconda3/envs/JupyterHub/lib/python3.6/site-packages/IPython/core/interactiveshell.py:3326: SettingWithCopyWarning: \n",
      "A value is trying to be set on a copy of a slice from a DataFrame\n",
      "\n",
      "See the caveats in the documentation: http://pandas.pydata.org/pandas-docs/stable/user_guide/indexing.html#returning-a-view-versus-a-copy\n",
      "  exec(code_obj, self.user_global_ns, self.user_ns)\n",
      "/opt/miniconda3/envs/JupyterHub/lib/python3.6/site-packages/pandas/core/indexing.py:205: SettingWithCopyWarning: \n",
      "A value is trying to be set on a copy of a slice from a DataFrame\n",
      "\n",
      "See the caveats in the documentation: http://pandas.pydata.org/pandas-docs/stable/user_guide/indexing.html#returning-a-view-versus-a-copy\n",
      "  self._setitem_with_indexer(indexer, value)\n",
      "/opt/miniconda3/envs/JupyterHub/lib/python3.6/site-packages/IPython/core/interactiveshell.py:3326: SettingWithCopyWarning: \n",
      "A value is trying to be set on a copy of a slice from a DataFrame\n",
      "\n",
      "See the caveats in the documentation: http://pandas.pydata.org/pandas-docs/stable/user_guide/indexing.html#returning-a-view-versus-a-copy\n",
      "  exec(code_obj, self.user_global_ns, self.user_ns)\n",
      "/opt/miniconda3/envs/JupyterHub/lib/python3.6/site-packages/pandas/core/indexing.py:205: SettingWithCopyWarning: \n",
      "A value is trying to be set on a copy of a slice from a DataFrame\n",
      "\n",
      "See the caveats in the documentation: http://pandas.pydata.org/pandas-docs/stable/user_guide/indexing.html#returning-a-view-versus-a-copy\n",
      "  self._setitem_with_indexer(indexer, value)\n",
      "/opt/miniconda3/envs/JupyterHub/lib/python3.6/site-packages/IPython/core/interactiveshell.py:3326: SettingWithCopyWarning: \n",
      "A value is trying to be set on a copy of a slice from a DataFrame\n",
      "\n",
      "See the caveats in the documentation: http://pandas.pydata.org/pandas-docs/stable/user_guide/indexing.html#returning-a-view-versus-a-copy\n",
      "  exec(code_obj, self.user_global_ns, self.user_ns)\n",
      "/opt/miniconda3/envs/JupyterHub/lib/python3.6/site-packages/pandas/core/indexing.py:205: SettingWithCopyWarning: \n",
      "A value is trying to be set on a copy of a slice from a DataFrame\n",
      "\n",
      "See the caveats in the documentation: http://pandas.pydata.org/pandas-docs/stable/user_guide/indexing.html#returning-a-view-versus-a-copy\n",
      "  self._setitem_with_indexer(indexer, value)\n",
      "/opt/miniconda3/envs/JupyterHub/lib/python3.6/site-packages/IPython/core/interactiveshell.py:3326: SettingWithCopyWarning: \n",
      "A value is trying to be set on a copy of a slice from a DataFrame\n",
      "\n",
      "See the caveats in the documentation: http://pandas.pydata.org/pandas-docs/stable/user_guide/indexing.html#returning-a-view-versus-a-copy\n",
      "  exec(code_obj, self.user_global_ns, self.user_ns)\n",
      "/opt/miniconda3/envs/JupyterHub/lib/python3.6/site-packages/pandas/core/indexing.py:205: SettingWithCopyWarning: \n",
      "A value is trying to be set on a copy of a slice from a DataFrame\n",
      "\n",
      "See the caveats in the documentation: http://pandas.pydata.org/pandas-docs/stable/user_guide/indexing.html#returning-a-view-versus-a-copy\n",
      "  self._setitem_with_indexer(indexer, value)\n",
      "/opt/miniconda3/envs/JupyterHub/lib/python3.6/site-packages/IPython/core/interactiveshell.py:3326: SettingWithCopyWarning: \n",
      "A value is trying to be set on a copy of a slice from a DataFrame\n",
      "\n",
      "See the caveats in the documentation: http://pandas.pydata.org/pandas-docs/stable/user_guide/indexing.html#returning-a-view-versus-a-copy\n",
      "  exec(code_obj, self.user_global_ns, self.user_ns)\n",
      "/opt/miniconda3/envs/JupyterHub/lib/python3.6/site-packages/pandas/core/indexing.py:205: SettingWithCopyWarning: \n",
      "A value is trying to be set on a copy of a slice from a DataFrame\n",
      "\n",
      "See the caveats in the documentation: http://pandas.pydata.org/pandas-docs/stable/user_guide/indexing.html#returning-a-view-versus-a-copy\n",
      "  self._setitem_with_indexer(indexer, value)\n",
      "/opt/miniconda3/envs/JupyterHub/lib/python3.6/site-packages/IPython/core/interactiveshell.py:3326: SettingWithCopyWarning: \n",
      "A value is trying to be set on a copy of a slice from a DataFrame\n",
      "\n",
      "See the caveats in the documentation: http://pandas.pydata.org/pandas-docs/stable/user_guide/indexing.html#returning-a-view-versus-a-copy\n",
      "  exec(code_obj, self.user_global_ns, self.user_ns)\n"
     ]
    }
   ],
   "source": [
    "##Predicting the next 30days data of each stock using Linear Regression from for 4 stocks with the objective of 100$\n",
    "FutureClosingPrice = []\n",
    "\n",
    "count = 0\n",
    "budget = 1000;\n",
    "profit = 0\n",
    "for index in companies:\n",
    "    \n",
    "    df = data[:506][index]\n",
    "    # A variable for predicting 'n' days out into the future\n",
    "    forecast_out = 30 #'n=30' days\n",
    "    #Create another column (the target ) shifted 'n' units up\n",
    "    df['Prediction'] = data[:506][index].shift(-forecast_out)\n",
    "    ### Create the independent data set (X)  #######\n",
    "    # Convert the dataframe to a numpy array\n",
    "    X = np.array(df.drop(['Prediction']))\n",
    "    #Remove the last '30' rows\n",
    "    X = X[:-forecast_out]\n",
    "    ### Create the dependent data set (y)  #####\n",
    "    # Convert the dataframe to a numpy array \n",
    "    y = np.array(df['Prediction'])\n",
    "    # Get all of the y values except the last '30' rows\n",
    "    y = y[:-forecast_out]\n",
    "    x_train, x_test, y_train, y_test = train_test_split(X, y, test_size=0.2)\n",
    "    #make y_train,x_train,x_test,y_test 2D array; required for formatting\n",
    "    y_train= y_train.reshape(-1, 1)\n",
    "    x_train= x_train.reshape(-1, 1)\n",
    "    x_test = x_test.reshape(-1, 1)\n",
    "    y_test = y_test.reshape(-1, 1)\n",
    "    #clear out all the nans, required for formatting\n",
    "    ind = np.isnan(y_test)\n",
    "    y_test[ind] = 0;\n",
    "    ind = np.isnan(y_train)\n",
    "    y_train[ind] = 0;\n",
    "    # Create and train the Linear Regression  Model\n",
    "    lr = LinearRegression()\n",
    "    # Train the model\n",
    "    lr.fit(x_train, y_train)\n",
    "    #clear out all the nans, required for formattin\n",
    "    ind = np.isnan(y_test)\n",
    "    y_test[ind] = 0;\n",
    "    # Testing Model: Score returns the coefficient of determination R^2 of the prediction. \n",
    "    # The best possible score is 1.0\n",
    "    lr_confidence = lr.score(x_test, y_test)\n",
    "    x_forecast = np.array(X)[-forecast_out:]\n",
    "    #make x_forecast required for formatting\n",
    "    x_forecast= x_forecast.reshape(-1, 1)\n",
    "    lr_prediction = lr.predict(x_forecast)\n",
    "    FutureClosingPrice.append(lr_prediction[29]) \n",
    "    #profit1,numShares1 x= 50, profit2 x = 100\n",
    "    numShares = budget * x1[\"level\"][count] / ClosingPriceData[count][0]\n",
    "    profit += (lr_prediction[29] -  ClosingPriceData[count][0] ) * numShares\n",
    "    count += 1\n",
    "\n",
    "print(profit)"
   ]
  },
  {
   "cell_type": "markdown",
   "metadata": {},
   "source": [
    ">Both moving average and linear regression showed us that with a budget of 1000 dollars; you will end up loosing money instead of gaining if you aim to get 100 dollar return."
   ]
  },
  {
   "cell_type": "code",
   "execution_count": 12,
   "metadata": {},
   "outputs": [
    {
     "name": "stdout",
     "output_type": "stream",
     "text": [
      "-25.32088254599661 from linear Regression for 4 stocks objective of 100\n",
      "-10.189685359409056 from Moving Average for 4 stocks objective of 100\n"
     ]
    }
   ],
   "source": [
    "#from linear regression\n",
    "print(profit[0], \"from linear Regression for 4 stocks objective of 100\")\n",
    "#from moving average\n",
    "print(movAverageprofit, \"from Moving Average for 4 stocks objective of 100\")"
   ]
  },
  {
   "cell_type": "markdown",
   "metadata": {},
   "source": [
    "# How About With 3 Stocks to return the objective of 100?"
   ]
  },
  {
   "cell_type": "code",
   "execution_count": 13,
   "metadata": {},
   "outputs": [
    {
     "data": {
      "text/html": [
       "<div>\n",
       "<style scoped>\n",
       "    .dataframe tbody tr th:only-of-type {\n",
       "        vertical-align: middle;\n",
       "    }\n",
       "\n",
       "    .dataframe tbody tr th {\n",
       "        vertical-align: top;\n",
       "    }\n",
       "\n",
       "    .dataframe thead th {\n",
       "        text-align: right;\n",
       "    }\n",
       "</style>\n",
       "<table border=\"1\" class=\"dataframe\">\n",
       "  <thead>\n",
       "    <tr style=\"text-align: right;\">\n",
       "      <th></th>\n",
       "      <th>Solver Status</th>\n",
       "      <th>Model Status</th>\n",
       "      <th>Objective</th>\n",
       "      <th>#equ</th>\n",
       "      <th>#var</th>\n",
       "      <th>Model Type</th>\n",
       "      <th>Solver</th>\n",
       "      <th>Solver Time</th>\n",
       "    </tr>\n",
       "  </thead>\n",
       "  <tbody>\n",
       "    <tr>\n",
       "      <td>0</td>\n",
       "      <td>Normal (1)</td>\n",
       "      <td>Integer (8)</td>\n",
       "      <td>20.3836</td>\n",
       "      <td>14</td>\n",
       "      <td>21</td>\n",
       "      <td>MIQCP</td>\n",
       "      <td>SBB</td>\n",
       "      <td>0.193</td>\n",
       "    </tr>\n",
       "  </tbody>\n",
       "</table>\n",
       "</div>"
      ],
      "text/plain": [
       "  Solver Status Model Status  Objective #equ #var Model Type Solver  \\\n",
       "0    Normal (1)  Integer (8)    20.3836   14   21      MIQCP    SBB   \n",
       "\n",
       "  Solver Time  \n",
       "0       0.193  "
      ]
     },
     "execution_count": 13,
     "metadata": {},
     "output_type": "execute_result"
    }
   ],
   "source": [
    "%%gams\n",
    "positive variable threestock100Dollar(i);\n",
    "model type2portfolio \"return of 100 with 3 stocks\" / totstock1,expreturn1,riskfactor1,eq1,stocks_chosen3/;  \n",
    "option optCr = 1e-6;\n",
    "threestock100Dollar.l(i) = x1.l(i);\n",
    "solve type2portfolio  using miqcp minimizing risk1;\n",
    "display x1.l;"
   ]
  },
  {
   "cell_type": "code",
   "execution_count": 14,
   "metadata": {},
   "outputs": [
    {
     "data": {
      "text/html": [
       "<div>\n",
       "<style scoped>\n",
       "    .dataframe tbody tr th:only-of-type {\n",
       "        vertical-align: middle;\n",
       "    }\n",
       "\n",
       "    .dataframe tbody tr th {\n",
       "        vertical-align: top;\n",
       "    }\n",
       "\n",
       "    .dataframe thead th {\n",
       "        text-align: right;\n",
       "    }\n",
       "</style>\n",
       "<table border=\"1\" class=\"dataframe\">\n",
       "  <thead>\n",
       "    <tr style=\"text-align: right;\">\n",
       "      <th></th>\n",
       "      <th>level</th>\n",
       "      <th>marginal</th>\n",
       "      <th>lower</th>\n",
       "      <th>upper</th>\n",
       "      <th>scale</th>\n",
       "    </tr>\n",
       "    <tr>\n",
       "      <th>i</th>\n",
       "      <th></th>\n",
       "      <th></th>\n",
       "      <th></th>\n",
       "      <th></th>\n",
       "      <th></th>\n",
       "    </tr>\n",
       "  </thead>\n",
       "  <tbody>\n",
       "    <tr>\n",
       "      <td>MKTX</td>\n",
       "      <td>0.121494</td>\n",
       "      <td>4.940656e-324</td>\n",
       "      <td>0.0</td>\n",
       "      <td>inf</td>\n",
       "      <td>1.0</td>\n",
       "    </tr>\n",
       "    <tr>\n",
       "      <td>nordStorm</td>\n",
       "      <td>0.276317</td>\n",
       "      <td>0.000000e+00</td>\n",
       "      <td>0.0</td>\n",
       "      <td>inf</td>\n",
       "      <td>1.0</td>\n",
       "    </tr>\n",
       "    <tr>\n",
       "      <td>Disney</td>\n",
       "      <td>0.602189</td>\n",
       "      <td>0.000000e+00</td>\n",
       "      <td>0.0</td>\n",
       "      <td>inf</td>\n",
       "      <td>1.0</td>\n",
       "    </tr>\n",
       "  </tbody>\n",
       "</table>\n",
       "</div>"
      ],
      "text/plain": [
       "              level       marginal  lower  upper  scale\n",
       "i                                                      \n",
       "MKTX       0.121494  4.940656e-324    0.0    inf    1.0\n",
       "nordStorm  0.276317   0.000000e+00    0.0    inf    1.0\n",
       "Disney     0.602189   0.000000e+00    0.0    inf    1.0"
      ]
     },
     "execution_count": 14,
     "metadata": {},
     "output_type": "execute_result"
    }
   ],
   "source": [
    "%gams_pull -d x1\n",
    "soln=x1.loc[x1['level'] > 0]\n",
    "soln.set_index('i',inplace=True)\n",
    "soln.sort_values(by='level')"
   ]
  },
  {
   "cell_type": "code",
   "execution_count": 15,
   "metadata": {},
   "outputs": [
    {
     "data": {
      "image/png": "[encoded data removed]",
      "text/plain": [
       "<Figure size 432x288 with 1 Axes>"
      ]
     },
     "metadata": {},
     "output_type": "display_data"
    }
   ],
   "source": [
    "showx = x1.loc[x1['level'] > 0]\n",
    "labels = showx['i']\n",
    "sizes = showx['level']\n",
    "colors = ['yellowgreen', 'gold', 'lightskyblue', 'lightcoral']\n",
    "patches, texts = plt.pie(sizes, colors=colors, shadow=True, startangle=90)\n",
    "plt.legend(patches, labels, loc=\"best\")\n",
    "plt.title('Percentage of 1000 Dollar invested in Stocks to Obtain 100$ return(10%) with 3 stocks')\n",
    "plt.axis('equal')\n",
    "plt.tight_layout()\n",
    "plt.show()"
   ]
  },
  {
   "cell_type": "code",
   "execution_count": 16,
   "metadata": {},
   "outputs": [
    {
     "name": "stdout",
     "output_type": "stream",
     "text": [
      "-39.431819887828006\n"
     ]
    },
    {
     "name": "stderr",
     "output_type": "stream",
     "text": [
      "/opt/miniconda3/envs/JupyterHub/lib/python3.6/site-packages/IPython/core/interactiveshell.py:3058: DtypeWarning: Columns (0) have mixed types. Specify dtype option on import or set low_memory=False.\n",
      "  interactivity=interactivity, compiler=compiler, result=result)\n"
     ]
    }
   ],
   "source": [
    "##Predicting the next 30days using Moving Average from for 3 stocks with the objective of 100$\n",
    "\n",
    "# reading the data\n",
    "df = pd.read_csv('CLOSEDATA.csv')\n",
    "index_count = 0\n",
    "# setting up the dateFrame and data variable\n",
    "df['Date'] = pd.to_datetime(df.Date,format='%d-%m-%Y')\n",
    "df.index = df['Date']\n",
    "data = df.sort_index(ascending=True, axis=0)\n",
    "\n",
    "#1000$ investment\n",
    "budget = 1000\n",
    "movAverageprofit = 0\n",
    "pd.options.display.max_columns=None\n",
    "\n",
    "\n",
    "#companies used for analysis\n",
    "companies = [\"nordStorm\",\"ctlStock\",\"MylanStock\",\"MacyStock\",\"Kohls\",\"AMD\",\"MKTX\",\"Netflix\",\"Disney\",\"Eros\"]\n",
    "#closing Price Data at 10-10-2018\n",
    "ClosingPriceData = []\n",
    "\n",
    "#calculate the moving average\n",
    "for company in companies:\n",
    "    ClosingPriceData.append(data[\"10/10/2018\"][company])\n",
    "    train = data[:506][company]\n",
    "    preds = []\n",
    "    for mm in range(0,30):\n",
    "        a = train[:len(train)].sum() + sum(preds)\n",
    "        b = a/len(train)\n",
    "        preds.append(b)\n",
    "        \n",
    "    #preds[29] is the closing price after 30 days\n",
    "    numShares = budget * x1[\"level\"][index_count] / ClosingPriceData[index_count][0]\n",
    "    movAverageprofit += (preds[29] -  ClosingPriceData[index_count][0] ) * numShares\n",
    "    index_count += 1    \n",
    "\n",
    "\n",
    "print(movAverageprofit)"
   ]
  },
  {
   "cell_type": "code",
   "execution_count": 17,
   "metadata": {},
   "outputs": [
    {
     "name": "stderr",
     "output_type": "stream",
     "text": [
      "/opt/miniconda3/envs/JupyterHub/lib/python3.6/site-packages/pandas/core/indexing.py:205: SettingWithCopyWarning: \n",
      "A value is trying to be set on a copy of a slice from a DataFrame\n",
      "\n",
      "See the caveats in the documentation: http://pandas.pydata.org/pandas-docs/stable/user_guide/indexing.html#returning-a-view-versus-a-copy\n",
      "  self._setitem_with_indexer(indexer, value)\n",
      "/opt/miniconda3/envs/JupyterHub/lib/python3.6/site-packages/IPython/core/interactiveshell.py:3326: SettingWithCopyWarning: \n",
      "A value is trying to be set on a copy of a slice from a DataFrame\n",
      "\n",
      "See the caveats in the documentation: http://pandas.pydata.org/pandas-docs/stable/user_guide/indexing.html#returning-a-view-versus-a-copy\n",
      "  exec(code_obj, self.user_global_ns, self.user_ns)\n",
      "/opt/miniconda3/envs/JupyterHub/lib/python3.6/site-packages/pandas/core/indexing.py:205: SettingWithCopyWarning: \n",
      "A value is trying to be set on a copy of a slice from a DataFrame\n",
      "\n",
      "See the caveats in the documentation: http://pandas.pydata.org/pandas-docs/stable/user_guide/indexing.html#returning-a-view-versus-a-copy\n",
      "  self._setitem_with_indexer(indexer, value)\n",
      "/opt/miniconda3/envs/JupyterHub/lib/python3.6/site-packages/IPython/core/interactiveshell.py:3326: SettingWithCopyWarning: \n",
      "A value is trying to be set on a copy of a slice from a DataFrame\n",
      "\n",
      "See the caveats in the documentation: http://pandas.pydata.org/pandas-docs/stable/user_guide/indexing.html#returning-a-view-versus-a-copy\n",
      "  exec(code_obj, self.user_global_ns, self.user_ns)\n"
     ]
    },
    {
     "name": "stdout",
     "output_type": "stream",
     "text": [
      "[-46.49118333]\n"
     ]
    },
    {
     "name": "stderr",
     "output_type": "stream",
     "text": [
      "/opt/miniconda3/envs/JupyterHub/lib/python3.6/site-packages/pandas/core/indexing.py:205: SettingWithCopyWarning: \n",
      "A value is trying to be set on a copy of a slice from a DataFrame\n",
      "\n",
      "See the caveats in the documentation: http://pandas.pydata.org/pandas-docs/stable/user_guide/indexing.html#returning-a-view-versus-a-copy\n",
      "  self._setitem_with_indexer(indexer, value)\n",
      "/opt/miniconda3/envs/JupyterHub/lib/python3.6/site-packages/IPython/core/interactiveshell.py:3326: SettingWithCopyWarning: \n",
      "A value is trying to be set on a copy of a slice from a DataFrame\n",
      "\n",
      "See the caveats in the documentation: http://pandas.pydata.org/pandas-docs/stable/user_guide/indexing.html#returning-a-view-versus-a-copy\n",
      "  exec(code_obj, self.user_global_ns, self.user_ns)\n",
      "/opt/miniconda3/envs/JupyterHub/lib/python3.6/site-packages/pandas/core/indexing.py:205: SettingWithCopyWarning: \n",
      "A value is trying to be set on a copy of a slice from a DataFrame\n",
      "\n",
      "See the caveats in the documentation: http://pandas.pydata.org/pandas-docs/stable/user_guide/indexing.html#returning-a-view-versus-a-copy\n",
      "  self._setitem_with_indexer(indexer, value)\n",
      "/opt/miniconda3/envs/JupyterHub/lib/python3.6/site-packages/IPython/core/interactiveshell.py:3326: SettingWithCopyWarning: \n",
      "A value is trying to be set on a copy of a slice from a DataFrame\n",
      "\n",
      "See the caveats in the documentation: http://pandas.pydata.org/pandas-docs/stable/user_guide/indexing.html#returning-a-view-versus-a-copy\n",
      "  exec(code_obj, self.user_global_ns, self.user_ns)\n",
      "/opt/miniconda3/envs/JupyterHub/lib/python3.6/site-packages/pandas/core/indexing.py:205: SettingWithCopyWarning: \n",
      "A value is trying to be set on a copy of a slice from a DataFrame\n",
      "\n",
      "See the caveats in the documentation: http://pandas.pydata.org/pandas-docs/stable/user_guide/indexing.html#returning-a-view-versus-a-copy\n",
      "  self._setitem_with_indexer(indexer, value)\n",
      "/opt/miniconda3/envs/JupyterHub/lib/python3.6/site-packages/IPython/core/interactiveshell.py:3326: SettingWithCopyWarning: \n",
      "A value is trying to be set on a copy of a slice from a DataFrame\n",
      "\n",
      "See the caveats in the documentation: http://pandas.pydata.org/pandas-docs/stable/user_guide/indexing.html#returning-a-view-versus-a-copy\n",
      "  exec(code_obj, self.user_global_ns, self.user_ns)\n",
      "/opt/miniconda3/envs/JupyterHub/lib/python3.6/site-packages/pandas/core/indexing.py:205: SettingWithCopyWarning: \n",
      "A value is trying to be set on a copy of a slice from a DataFrame\n",
      "\n",
      "See the caveats in the documentation: http://pandas.pydata.org/pandas-docs/stable/user_guide/indexing.html#returning-a-view-versus-a-copy\n",
      "  self._setitem_with_indexer(indexer, value)\n",
      "/opt/miniconda3/envs/JupyterHub/lib/python3.6/site-packages/IPython/core/interactiveshell.py:3326: SettingWithCopyWarning: \n",
      "A value is trying to be set on a copy of a slice from a DataFrame\n",
      "\n",
      "See the caveats in the documentation: http://pandas.pydata.org/pandas-docs/stable/user_guide/indexing.html#returning-a-view-versus-a-copy\n",
      "  exec(code_obj, self.user_global_ns, self.user_ns)\n",
      "/opt/miniconda3/envs/JupyterHub/lib/python3.6/site-packages/pandas/core/indexing.py:205: SettingWithCopyWarning: \n",
      "A value is trying to be set on a copy of a slice from a DataFrame\n",
      "\n",
      "See the caveats in the documentation: http://pandas.pydata.org/pandas-docs/stable/user_guide/indexing.html#returning-a-view-versus-a-copy\n",
      "  self._setitem_with_indexer(indexer, value)\n",
      "/opt/miniconda3/envs/JupyterHub/lib/python3.6/site-packages/IPython/core/interactiveshell.py:3326: SettingWithCopyWarning: \n",
      "A value is trying to be set on a copy of a slice from a DataFrame\n",
      "\n",
      "See the caveats in the documentation: http://pandas.pydata.org/pandas-docs/stable/user_guide/indexing.html#returning-a-view-versus-a-copy\n",
      "  exec(code_obj, self.user_global_ns, self.user_ns)\n",
      "/opt/miniconda3/envs/JupyterHub/lib/python3.6/site-packages/pandas/core/indexing.py:205: SettingWithCopyWarning: \n",
      "A value is trying to be set on a copy of a slice from a DataFrame\n",
      "\n",
      "See the caveats in the documentation: http://pandas.pydata.org/pandas-docs/stable/user_guide/indexing.html#returning-a-view-versus-a-copy\n",
      "  self._setitem_with_indexer(indexer, value)\n",
      "/opt/miniconda3/envs/JupyterHub/lib/python3.6/site-packages/IPython/core/interactiveshell.py:3326: SettingWithCopyWarning: \n",
      "A value is trying to be set on a copy of a slice from a DataFrame\n",
      "\n",
      "See the caveats in the documentation: http://pandas.pydata.org/pandas-docs/stable/user_guide/indexing.html#returning-a-view-versus-a-copy\n",
      "  exec(code_obj, self.user_global_ns, self.user_ns)\n",
      "/opt/miniconda3/envs/JupyterHub/lib/python3.6/site-packages/pandas/core/indexing.py:205: SettingWithCopyWarning: \n",
      "A value is trying to be set on a copy of a slice from a DataFrame\n",
      "\n",
      "See the caveats in the documentation: http://pandas.pydata.org/pandas-docs/stable/user_guide/indexing.html#returning-a-view-versus-a-copy\n",
      "  self._setitem_with_indexer(indexer, value)\n",
      "/opt/miniconda3/envs/JupyterHub/lib/python3.6/site-packages/IPython/core/interactiveshell.py:3326: SettingWithCopyWarning: \n",
      "A value is trying to be set on a copy of a slice from a DataFrame\n",
      "\n",
      "See the caveats in the documentation: http://pandas.pydata.org/pandas-docs/stable/user_guide/indexing.html#returning-a-view-versus-a-copy\n",
      "  exec(code_obj, self.user_global_ns, self.user_ns)\n",
      "/opt/miniconda3/envs/JupyterHub/lib/python3.6/site-packages/pandas/core/indexing.py:205: SettingWithCopyWarning: \n",
      "A value is trying to be set on a copy of a slice from a DataFrame\n",
      "\n",
      "See the caveats in the documentation: http://pandas.pydata.org/pandas-docs/stable/user_guide/indexing.html#returning-a-view-versus-a-copy\n",
      "  self._setitem_with_indexer(indexer, value)\n",
      "/opt/miniconda3/envs/JupyterHub/lib/python3.6/site-packages/IPython/core/interactiveshell.py:3326: SettingWithCopyWarning: \n",
      "A value is trying to be set on a copy of a slice from a DataFrame\n",
      "\n",
      "See the caveats in the documentation: http://pandas.pydata.org/pandas-docs/stable/user_guide/indexing.html#returning-a-view-versus-a-copy\n",
      "  exec(code_obj, self.user_global_ns, self.user_ns)\n"
     ]
    }
   ],
   "source": [
    "##Predicting the next 30days data of each stock using Linear Regression for 3 stocks with the objective of 100$\n",
    "FutureClosingPrice = []\n",
    "\n",
    "count = 0\n",
    "budget = 1000;\n",
    "profit = 0\n",
    "for index in companies:\n",
    "    \n",
    "    df = data[:506][index]\n",
    "    # A variable for predicting 'n' days out into the future\n",
    "    forecast_out = 30 #'n=30' days\n",
    "    #Create another column (the target ) shifted 'n' units up\n",
    "    df['Prediction'] = data[:506][index].shift(-forecast_out)\n",
    "    ### Create the independent data set (X)  #######\n",
    "    # Convert the dataframe to a numpy array\n",
    "    X = np.array(df.drop(['Prediction']))\n",
    "    #Remove the last '30' rows\n",
    "    X = X[:-forecast_out]\n",
    "    ### Create the dependent data set (y)  #####\n",
    "    # Convert the dataframe to a numpy array \n",
    "    y = np.array(df['Prediction'])\n",
    "    # Get all of the y values except the last '30' rows\n",
    "    y = y[:-forecast_out]\n",
    "    x_train, x_test, y_train, y_test = train_test_split(X, y, test_size=0.2)\n",
    "    #make y_train,x_train,x_test,y_test 2D array; required for formatting\n",
    "    y_train= y_train.reshape(-1, 1)\n",
    "    x_train= x_train.reshape(-1, 1)\n",
    "    x_test = x_test.reshape(-1, 1)\n",
    "    y_test = y_test.reshape(-1, 1)\n",
    "    #clear out all the nans, required for formatting\n",
    "    ind = np.isnan(y_test)\n",
    "    y_test[ind] = 0;\n",
    "    ind = np.isnan(y_train)\n",
    "    y_train[ind] = 0;\n",
    "    # Create and train the Linear Regression  Model\n",
    "    lr = LinearRegression()\n",
    "    # Train the model\n",
    "    lr.fit(x_train, y_train)\n",
    "    #clear out all the nans, required for formattin\n",
    "    ind = np.isnan(y_test)\n",
    "    y_test[ind] = 0;\n",
    "    # Testing Model: Score returns the coefficient of determination R^2 of the prediction. \n",
    "    # The best possible score is 1.0\n",
    "    lr_confidence = lr.score(x_test, y_test)\n",
    "    x_forecast = np.array(X)[-forecast_out:]\n",
    "    #make x_forecast required for formatting\n",
    "    x_forecast= x_forecast.reshape(-1, 1)\n",
    "    lr_prediction = lr.predict(x_forecast)\n",
    "    FutureClosingPrice.append(lr_prediction[29]) \n",
    "    #profit1,numShares1 x= 50, profit2 x = 100\n",
    "    numShares = budget * x1[\"level\"][count] / ClosingPriceData[count][0]\n",
    "    profit += (lr_prediction[29] -  ClosingPriceData[count][0] ) * numShares\n",
    "    count += 1\n",
    "\n",
    "print(profit)"
   ]
  },
  {
   "cell_type": "markdown",
   "metadata": {},
   "source": [
    "> Both linear Regression and Moving Average showed that we end up loosing money if we aim to make 100 dollar return with 3 stocks as well."
   ]
  },
  {
   "cell_type": "code",
   "execution_count": 18,
   "metadata": {},
   "outputs": [
    {
     "name": "stdout",
     "output_type": "stream",
     "text": [
      "-46.49118332978793 from linear Regression 3 stocks objective of 100\n",
      "-39.431819887828006 from Moving Average with 3 stocks objective of 100\n"
     ]
    }
   ],
   "source": [
    "#from linear regression\n",
    "print(profit[0], \"from linear Regression 3 stocks objective of 100\")\n",
    "#from moving average\n",
    "print(movAverageprofit, \"from Moving Average with 3 stocks objective of 100\")"
   ]
  },
  {
   "cell_type": "markdown",
   "metadata": {},
   "source": [
    "> Although we still make loss, investing in 4 stocks seems like a less loss option compared to investing in 3 stocks to get 100 Dollar Return."
   ]
  },
  {
   "cell_type": "markdown",
   "metadata": {},
   "source": [
    "## How about investing in 4 stocks to get 50 Dollar Return?"
   ]
  },
  {
   "cell_type": "code",
   "execution_count": 19,
   "metadata": {},
   "outputs": [
    {
     "data": {
      "text/html": [
       "<div>\n",
       "<style scoped>\n",
       "    .dataframe tbody tr th:only-of-type {\n",
       "        vertical-align: middle;\n",
       "    }\n",
       "\n",
       "    .dataframe tbody tr th {\n",
       "        vertical-align: top;\n",
       "    }\n",
       "\n",
       "    .dataframe thead th {\n",
       "        text-align: right;\n",
       "    }\n",
       "</style>\n",
       "<table border=\"1\" class=\"dataframe\">\n",
       "  <thead>\n",
       "    <tr style=\"text-align: right;\">\n",
       "      <th></th>\n",
       "      <th>Solver Status</th>\n",
       "      <th>Model Status</th>\n",
       "      <th>Objective</th>\n",
       "      <th>#equ</th>\n",
       "      <th>#var</th>\n",
       "      <th>Model Type</th>\n",
       "      <th>Solver</th>\n",
       "      <th>Solver Time</th>\n",
       "    </tr>\n",
       "  </thead>\n",
       "  <tbody>\n",
       "    <tr>\n",
       "      <td>0</td>\n",
       "      <td>Normal (1)</td>\n",
       "      <td>Integer (8)</td>\n",
       "      <td>3.8405</td>\n",
       "      <td>14</td>\n",
       "      <td>21</td>\n",
       "      <td>MIQCP</td>\n",
       "      <td>SBB</td>\n",
       "      <td>0.297</td>\n",
       "    </tr>\n",
       "  </tbody>\n",
       "</table>\n",
       "</div>"
      ],
      "text/plain": [
       "  Solver Status Model Status  Objective #equ #var Model Type Solver  \\\n",
       "0    Normal (1)  Integer (8)     3.8405   14   21      MIQCP    SBB   \n",
       "\n",
       "  Solver Time  \n",
       "0       0.297  "
      ]
     },
     "execution_count": 19,
     "metadata": {},
     "output_type": "execute_result"
    }
   ],
   "source": [
    "%%gams\n",
    "model type3portfolio  \"return of 50 with 4 stocks\" / totstock2,expreturn2,riskfactor2,eq2,stocks_chosen2/;  \n",
    "option optCr = 1e-6;\n",
    "solve type3portfolio   using miqcp minimizing risk2;\n",
    "display x.l;"
   ]
  },
  {
   "cell_type": "code",
   "execution_count": 20,
   "metadata": {},
   "outputs": [
    {
     "data": {
      "text/html": [
       "<div>\n",
       "<style scoped>\n",
       "    .dataframe tbody tr th:only-of-type {\n",
       "        vertical-align: middle;\n",
       "    }\n",
       "\n",
       "    .dataframe tbody tr th {\n",
       "        vertical-align: top;\n",
       "    }\n",
       "\n",
       "    .dataframe thead th {\n",
       "        text-align: right;\n",
       "    }\n",
       "</style>\n",
       "<table border=\"1\" class=\"dataframe\">\n",
       "  <thead>\n",
       "    <tr style=\"text-align: right;\">\n",
       "      <th></th>\n",
       "      <th>level</th>\n",
       "      <th>marginal</th>\n",
       "      <th>lower</th>\n",
       "      <th>upper</th>\n",
       "      <th>scale</th>\n",
       "    </tr>\n",
       "    <tr>\n",
       "      <th>i</th>\n",
       "      <th></th>\n",
       "      <th></th>\n",
       "      <th></th>\n",
       "      <th></th>\n",
       "      <th></th>\n",
       "    </tr>\n",
       "  </thead>\n",
       "  <tbody>\n",
       "    <tr>\n",
       "      <td>MKTX</td>\n",
       "      <td>0.046929</td>\n",
       "      <td>0.000000e+00</td>\n",
       "      <td>0.0</td>\n",
       "      <td>inf</td>\n",
       "      <td>1.0</td>\n",
       "    </tr>\n",
       "    <tr>\n",
       "      <td>MylanStock</td>\n",
       "      <td>0.201969</td>\n",
       "      <td>0.000000e+00</td>\n",
       "      <td>0.0</td>\n",
       "      <td>inf</td>\n",
       "      <td>1.0</td>\n",
       "    </tr>\n",
       "    <tr>\n",
       "      <td>Disney</td>\n",
       "      <td>0.259630</td>\n",
       "      <td>4.940656e-324</td>\n",
       "      <td>0.0</td>\n",
       "      <td>inf</td>\n",
       "      <td>1.0</td>\n",
       "    </tr>\n",
       "    <tr>\n",
       "      <td>Eros</td>\n",
       "      <td>0.491472</td>\n",
       "      <td>4.940656e-324</td>\n",
       "      <td>0.0</td>\n",
       "      <td>inf</td>\n",
       "      <td>1.0</td>\n",
       "    </tr>\n",
       "  </tbody>\n",
       "</table>\n",
       "</div>"
      ],
      "text/plain": [
       "               level       marginal  lower  upper  scale\n",
       "i                                                       \n",
       "MKTX        0.046929   0.000000e+00    0.0    inf    1.0\n",
       "MylanStock  0.201969   0.000000e+00    0.0    inf    1.0\n",
       "Disney      0.259630  4.940656e-324    0.0    inf    1.0\n",
       "Eros        0.491472  4.940656e-324    0.0    inf    1.0"
      ]
     },
     "execution_count": 20,
     "metadata": {},
     "output_type": "execute_result"
    }
   ],
   "source": [
    "%gams_pull -d x\n",
    "soln=x.loc[x['level'] > 0]\n",
    "soln.set_index('i',inplace=True)\n",
    "soln.sort_values(by='level')"
   ]
  },
  {
   "cell_type": "code",
   "execution_count": 21,
   "metadata": {},
   "outputs": [
    {
     "data": {
      "image/png": "[encoded data removed]",
      "text/plain": [
       "<Figure size 432x288 with 1 Axes>"
      ]
     },
     "metadata": {},
     "output_type": "display_data"
    }
   ],
   "source": [
    "showx = x.loc[x['level'] > 0]\n",
    "labels = showx['i']\n",
    "sizes = showx['level']\n",
    "colors = ['yellowgreen', 'gold', 'lightskyblue', 'lightcoral']\n",
    "patches, texts = plt.pie(sizes, colors=colors, shadow=True, startangle=90)\n",
    "plt.legend(patches, labels, loc=\"best\")\n",
    "plt.title('Percentage of 1000 Dollar invested in Stocks to Obtain 50$ return(5%) with 4 stocks')\n",
    "plt.axis('equal')\n",
    "plt.tight_layout()\n",
    "plt.show()\n",
    "\n"
   ]
  },
  {
   "cell_type": "code",
   "execution_count": 22,
   "metadata": {},
   "outputs": [
    {
     "name": "stdout",
     "output_type": "stream",
     "text": [
      "100.3502885940081\n"
     ]
    },
    {
     "name": "stderr",
     "output_type": "stream",
     "text": [
      "/opt/miniconda3/envs/JupyterHub/lib/python3.6/site-packages/IPython/core/interactiveshell.py:3058: DtypeWarning: Columns (0) have mixed types. Specify dtype option on import or set low_memory=False.\n",
      "  interactivity=interactivity, compiler=compiler, result=result)\n"
     ]
    }
   ],
   "source": [
    "##Predicting the next 30days using Moving Average for 4 stocks with the objective of 50$\n",
    "\n",
    "# reading the data\n",
    "df = pd.read_csv('CLOSEDATA.csv')\n",
    "index_count = 0\n",
    "# setting up the dateFrame and data variable\n",
    "df['Date'] = pd.to_datetime(df.Date,format='%d-%m-%Y')\n",
    "df.index = df['Date']\n",
    "data = df.sort_index(ascending=True, axis=0)\n",
    "\n",
    "#1000$ investment\n",
    "budget = 1000\n",
    "movAverageprofit = 0\n",
    "pd.options.display.max_columns=None\n",
    "\n",
    "\n",
    "#companies used for analysis\n",
    "companies = [\"nordStorm\",\"ctlStock\",\"MylanStock\",\"MacyStock\",\"Kohls\",\"AMD\",\"MKTX\",\"Netflix\",\"Disney\",\"Eros\"]\n",
    "#closing Price Data at 10-10-2018\n",
    "ClosingPriceData = []\n",
    "\n",
    "#calculate the moving average\n",
    "for company in companies:\n",
    "    ClosingPriceData.append(data[\"10/10/2018\"][company])\n",
    "    train = data[:506][company]\n",
    "    preds = []\n",
    "    for mm in range(0,30):\n",
    "        a = train[:len(train)].sum() + sum(preds)\n",
    "        b = a/len(train)\n",
    "        preds.append(b)\n",
    "        \n",
    "    #preds[29] is the closing price after 30 days\n",
    "    numShares = budget * x[\"level\"][index_count] / ClosingPriceData[index_count][0]\n",
    "    movAverageprofit += (preds[29] -  ClosingPriceData[index_count][0] ) * numShares\n",
    "    index_count += 1    \n",
    "\n",
    "\n",
    "print(movAverageprofit)"
   ]
  },
  {
   "cell_type": "code",
   "execution_count": 23,
   "metadata": {},
   "outputs": [
    {
     "name": "stderr",
     "output_type": "stream",
     "text": [
      "/opt/miniconda3/envs/JupyterHub/lib/python3.6/site-packages/pandas/core/indexing.py:205: SettingWithCopyWarning: \n",
      "A value is trying to be set on a copy of a slice from a DataFrame\n",
      "\n",
      "See the caveats in the documentation: http://pandas.pydata.org/pandas-docs/stable/user_guide/indexing.html#returning-a-view-versus-a-copy\n",
      "  self._setitem_with_indexer(indexer, value)\n",
      "/opt/miniconda3/envs/JupyterHub/lib/python3.6/site-packages/IPython/core/interactiveshell.py:3326: SettingWithCopyWarning: \n",
      "A value is trying to be set on a copy of a slice from a DataFrame\n",
      "\n",
      "See the caveats in the documentation: http://pandas.pydata.org/pandas-docs/stable/user_guide/indexing.html#returning-a-view-versus-a-copy\n",
      "  exec(code_obj, self.user_global_ns, self.user_ns)\n",
      "/opt/miniconda3/envs/JupyterHub/lib/python3.6/site-packages/pandas/core/indexing.py:205: SettingWithCopyWarning: \n",
      "A value is trying to be set on a copy of a slice from a DataFrame\n",
      "\n",
      "See the caveats in the documentation: http://pandas.pydata.org/pandas-docs/stable/user_guide/indexing.html#returning-a-view-versus-a-copy\n",
      "  self._setitem_with_indexer(indexer, value)\n",
      "/opt/miniconda3/envs/JupyterHub/lib/python3.6/site-packages/IPython/core/interactiveshell.py:3326: SettingWithCopyWarning: \n",
      "A value is trying to be set on a copy of a slice from a DataFrame\n",
      "\n",
      "See the caveats in the documentation: http://pandas.pydata.org/pandas-docs/stable/user_guide/indexing.html#returning-a-view-versus-a-copy\n",
      "  exec(code_obj, self.user_global_ns, self.user_ns)\n"
     ]
    },
    {
     "name": "stdout",
     "output_type": "stream",
     "text": [
      "[37.48015507]\n"
     ]
    },
    {
     "name": "stderr",
     "output_type": "stream",
     "text": [
      "/opt/miniconda3/envs/JupyterHub/lib/python3.6/site-packages/pandas/core/indexing.py:205: SettingWithCopyWarning: \n",
      "A value is trying to be set on a copy of a slice from a DataFrame\n",
      "\n",
      "See the caveats in the documentation: http://pandas.pydata.org/pandas-docs/stable/user_guide/indexing.html#returning-a-view-versus-a-copy\n",
      "  self._setitem_with_indexer(indexer, value)\n",
      "/opt/miniconda3/envs/JupyterHub/lib/python3.6/site-packages/IPython/core/interactiveshell.py:3326: SettingWithCopyWarning: \n",
      "A value is trying to be set on a copy of a slice from a DataFrame\n",
      "\n",
      "See the caveats in the documentation: http://pandas.pydata.org/pandas-docs/stable/user_guide/indexing.html#returning-a-view-versus-a-copy\n",
      "  exec(code_obj, self.user_global_ns, self.user_ns)\n",
      "/opt/miniconda3/envs/JupyterHub/lib/python3.6/site-packages/pandas/core/indexing.py:205: SettingWithCopyWarning: \n",
      "A value is trying to be set on a copy of a slice from a DataFrame\n",
      "\n",
      "See the caveats in the documentation: http://pandas.pydata.org/pandas-docs/stable/user_guide/indexing.html#returning-a-view-versus-a-copy\n",
      "  self._setitem_with_indexer(indexer, value)\n",
      "/opt/miniconda3/envs/JupyterHub/lib/python3.6/site-packages/IPython/core/interactiveshell.py:3326: SettingWithCopyWarning: \n",
      "A value is trying to be set on a copy of a slice from a DataFrame\n",
      "\n",
      "See the caveats in the documentation: http://pandas.pydata.org/pandas-docs/stable/user_guide/indexing.html#returning-a-view-versus-a-copy\n",
      "  exec(code_obj, self.user_global_ns, self.user_ns)\n",
      "/opt/miniconda3/envs/JupyterHub/lib/python3.6/site-packages/pandas/core/indexing.py:205: SettingWithCopyWarning: \n",
      "A value is trying to be set on a copy of a slice from a DataFrame\n",
      "\n",
      "See the caveats in the documentation: http://pandas.pydata.org/pandas-docs/stable/user_guide/indexing.html#returning-a-view-versus-a-copy\n",
      "  self._setitem_with_indexer(indexer, value)\n",
      "/opt/miniconda3/envs/JupyterHub/lib/python3.6/site-packages/IPython/core/interactiveshell.py:3326: SettingWithCopyWarning: \n",
      "A value is trying to be set on a copy of a slice from a DataFrame\n",
      "\n",
      "See the caveats in the documentation: http://pandas.pydata.org/pandas-docs/stable/user_guide/indexing.html#returning-a-view-versus-a-copy\n",
      "  exec(code_obj, self.user_global_ns, self.user_ns)\n",
      "/opt/miniconda3/envs/JupyterHub/lib/python3.6/site-packages/pandas/core/indexing.py:205: SettingWithCopyWarning: \n",
      "A value is trying to be set on a copy of a slice from a DataFrame\n",
      "\n",
      "See the caveats in the documentation: http://pandas.pydata.org/pandas-docs/stable/user_guide/indexing.html#returning-a-view-versus-a-copy\n",
      "  self._setitem_with_indexer(indexer, value)\n",
      "/opt/miniconda3/envs/JupyterHub/lib/python3.6/site-packages/IPython/core/interactiveshell.py:3326: SettingWithCopyWarning: \n",
      "A value is trying to be set on a copy of a slice from a DataFrame\n",
      "\n",
      "See the caveats in the documentation: http://pandas.pydata.org/pandas-docs/stable/user_guide/indexing.html#returning-a-view-versus-a-copy\n",
      "  exec(code_obj, self.user_global_ns, self.user_ns)\n",
      "/opt/miniconda3/envs/JupyterHub/lib/python3.6/site-packages/pandas/core/indexing.py:205: SettingWithCopyWarning: \n",
      "A value is trying to be set on a copy of a slice from a DataFrame\n",
      "\n",
      "See the caveats in the documentation: http://pandas.pydata.org/pandas-docs/stable/user_guide/indexing.html#returning-a-view-versus-a-copy\n",
      "  self._setitem_with_indexer(indexer, value)\n",
      "/opt/miniconda3/envs/JupyterHub/lib/python3.6/site-packages/IPython/core/interactiveshell.py:3326: SettingWithCopyWarning: \n",
      "A value is trying to be set on a copy of a slice from a DataFrame\n",
      "\n",
      "See the caveats in the documentation: http://pandas.pydata.org/pandas-docs/stable/user_guide/indexing.html#returning-a-view-versus-a-copy\n",
      "  exec(code_obj, self.user_global_ns, self.user_ns)\n",
      "/opt/miniconda3/envs/JupyterHub/lib/python3.6/site-packages/pandas/core/indexing.py:205: SettingWithCopyWarning: \n",
      "A value is trying to be set on a copy of a slice from a DataFrame\n",
      "\n",
      "See the caveats in the documentation: http://pandas.pydata.org/pandas-docs/stable/user_guide/indexing.html#returning-a-view-versus-a-copy\n",
      "  self._setitem_with_indexer(indexer, value)\n",
      "/opt/miniconda3/envs/JupyterHub/lib/python3.6/site-packages/IPython/core/interactiveshell.py:3326: SettingWithCopyWarning: \n",
      "A value is trying to be set on a copy of a slice from a DataFrame\n",
      "\n",
      "See the caveats in the documentation: http://pandas.pydata.org/pandas-docs/stable/user_guide/indexing.html#returning-a-view-versus-a-copy\n",
      "  exec(code_obj, self.user_global_ns, self.user_ns)\n",
      "/opt/miniconda3/envs/JupyterHub/lib/python3.6/site-packages/pandas/core/indexing.py:205: SettingWithCopyWarning: \n",
      "A value is trying to be set on a copy of a slice from a DataFrame\n",
      "\n",
      "See the caveats in the documentation: http://pandas.pydata.org/pandas-docs/stable/user_guide/indexing.html#returning-a-view-versus-a-copy\n",
      "  self._setitem_with_indexer(indexer, value)\n",
      "/opt/miniconda3/envs/JupyterHub/lib/python3.6/site-packages/IPython/core/interactiveshell.py:3326: SettingWithCopyWarning: \n",
      "A value is trying to be set on a copy of a slice from a DataFrame\n",
      "\n",
      "See the caveats in the documentation: http://pandas.pydata.org/pandas-docs/stable/user_guide/indexing.html#returning-a-view-versus-a-copy\n",
      "  exec(code_obj, self.user_global_ns, self.user_ns)\n",
      "/opt/miniconda3/envs/JupyterHub/lib/python3.6/site-packages/pandas/core/indexing.py:205: SettingWithCopyWarning: \n",
      "A value is trying to be set on a copy of a slice from a DataFrame\n",
      "\n",
      "See the caveats in the documentation: http://pandas.pydata.org/pandas-docs/stable/user_guide/indexing.html#returning-a-view-versus-a-copy\n",
      "  self._setitem_with_indexer(indexer, value)\n",
      "/opt/miniconda3/envs/JupyterHub/lib/python3.6/site-packages/IPython/core/interactiveshell.py:3326: SettingWithCopyWarning: \n",
      "A value is trying to be set on a copy of a slice from a DataFrame\n",
      "\n",
      "See the caveats in the documentation: http://pandas.pydata.org/pandas-docs/stable/user_guide/indexing.html#returning-a-view-versus-a-copy\n",
      "  exec(code_obj, self.user_global_ns, self.user_ns)\n"
     ]
    }
   ],
   "source": [
    "##Predicting the next 30days data of each stock using Linear Regression for 4 stocks with the objective of 50$\n",
    "FutureClosingPrice = []\n",
    "\n",
    "count = 0\n",
    "budget = 1000;\n",
    "profit = 0\n",
    "for index in companies:\n",
    "    \n",
    "    df = data[:506][index]\n",
    "    # A variable for predicting 'n' days out into the future\n",
    "    forecast_out = 30 #'n=30' days\n",
    "    #Create another column (the target ) shifted 'n' units up\n",
    "    df['Prediction'] = data[:506][index].shift(-forecast_out)\n",
    "    ### Create the independent data set (X)  #######\n",
    "    # Convert the dataframe to a numpy array\n",
    "    X = np.array(df.drop(['Prediction']))\n",
    "    #Remove the last '30' rows\n",
    "    X = X[:-forecast_out]\n",
    "    ### Create the dependent data set (y)  #####\n",
    "    # Convert the dataframe to a numpy array \n",
    "    y = np.array(df['Prediction'])\n",
    "    # Get all of the y values except the last '30' rows\n",
    "    y = y[:-forecast_out]\n",
    "    x_train, x_test, y_train, y_test = train_test_split(X, y, test_size=0.2)\n",
    "    #make y_train,x_train,x_test,y_test 2D array; required for formatting\n",
    "    y_train= y_train.reshape(-1, 1)\n",
    "    x_train= x_train.reshape(-1, 1)\n",
    "    x_test = x_test.reshape(-1, 1)\n",
    "    y_test = y_test.reshape(-1, 1)\n",
    "    #clear out all the nans, required for formatting\n",
    "    ind = np.isnan(y_test)\n",
    "    y_test[ind] = 0;\n",
    "    ind = np.isnan(y_train)\n",
    "    y_train[ind] = 0;\n",
    "    # Create and train the Linear Regression  Model\n",
    "    lr = LinearRegression()\n",
    "    # Train the model\n",
    "    lr.fit(x_train, y_train)\n",
    "    #clear out all the nans, required for formattin\n",
    "    ind = np.isnan(y_test)\n",
    "    y_test[ind] = 0;\n",
    "    # Testing Model: Score returns the coefficient of determination R^2 of the prediction. \n",
    "    # The best possible score is 1.0\n",
    "    lr_confidence = lr.score(x_test, y_test)\n",
    "    x_forecast = np.array(X)[-forecast_out:]\n",
    "    #make x_forecast required for formatting\n",
    "    x_forecast= x_forecast.reshape(-1, 1)\n",
    "    lr_prediction = lr.predict(x_forecast)\n",
    "    FutureClosingPrice.append(lr_prediction[29]) \n",
    "    #profit1,numShares1 x= 50, profit2 x = 100\n",
    "    numShares = budget * x[\"level\"][count] / ClosingPriceData[count][0]\n",
    "    profit += (lr_prediction[29] -  ClosingPriceData[count][0] ) * numShares\n",
    "    count += 1\n",
    "\n",
    "print(profit)\n"
   ]
  },
  {
   "cell_type": "markdown",
   "metadata": {},
   "source": [
    ">Both linear Regression and Moving Average showed that we end up gaining money if we aim to make 50 dollar return with 4 stocks as well. "
   ]
  },
  {
   "cell_type": "code",
   "execution_count": 24,
   "metadata": {},
   "outputs": [
    {
     "name": "stdout",
     "output_type": "stream",
     "text": [
      "37.480155068326276 from linear Regression 4 stocks objective of 50\n",
      "100.3502885940081 from Moving Average with 4 stocks objective of 50\n"
     ]
    }
   ],
   "source": [
    "#from linear regression\n",
    "print(profit[0], \"from linear Regression 4 stocks objective of 50\")\n",
    "#from moving average\n",
    "print(movAverageprofit, \"from Moving Average with 4 stocks objective of 50\")"
   ]
  },
  {
   "cell_type": "markdown",
   "metadata": {},
   "source": [
    "> While Moving Average exceeds our target by far, linear regression falls short to obtain 50 Dollar Return, although they both make profit. "
   ]
  },
  {
   "cell_type": "markdown",
   "metadata": {},
   "source": [
    "## How about investing in 3 stocks to get 50 Dollar Return?"
   ]
  },
  {
   "cell_type": "code",
   "execution_count": 25,
   "metadata": {},
   "outputs": [
    {
     "data": {
      "text/html": [
       "<div>\n",
       "<style scoped>\n",
       "    .dataframe tbody tr th:only-of-type {\n",
       "        vertical-align: middle;\n",
       "    }\n",
       "\n",
       "    .dataframe tbody tr th {\n",
       "        vertical-align: top;\n",
       "    }\n",
       "\n",
       "    .dataframe thead th {\n",
       "        text-align: right;\n",
       "    }\n",
       "</style>\n",
       "<table border=\"1\" class=\"dataframe\">\n",
       "  <thead>\n",
       "    <tr style=\"text-align: right;\">\n",
       "      <th></th>\n",
       "      <th>Solver Status</th>\n",
       "      <th>Model Status</th>\n",
       "      <th>Objective</th>\n",
       "      <th>#equ</th>\n",
       "      <th>#var</th>\n",
       "      <th>Model Type</th>\n",
       "      <th>Solver</th>\n",
       "      <th>Solver Time</th>\n",
       "    </tr>\n",
       "  </thead>\n",
       "  <tbody>\n",
       "    <tr>\n",
       "      <td>0</td>\n",
       "      <td>Normal (1)</td>\n",
       "      <td>Integer (8)</td>\n",
       "      <td>4.304</td>\n",
       "      <td>14</td>\n",
       "      <td>21</td>\n",
       "      <td>MIQCP</td>\n",
       "      <td>SBB</td>\n",
       "      <td>0.305</td>\n",
       "    </tr>\n",
       "  </tbody>\n",
       "</table>\n",
       "</div>"
      ],
      "text/plain": [
       "  Solver Status Model Status  Objective #equ #var Model Type Solver  \\\n",
       "0    Normal (1)  Integer (8)      4.304   14   21      MIQCP    SBB   \n",
       "\n",
       "  Solver Time  \n",
       "0       0.305  "
      ]
     },
     "execution_count": 25,
     "metadata": {},
     "output_type": "execute_result"
    }
   ],
   "source": [
    "%%gams\n",
    "model type4portfolio  \"return of 50 with 3 stocks\" / totstock2,expreturn2,riskfactor2,eq2,stocks_chosen4/;  \n",
    "option optCr = 1e-6;\n",
    "solve type4portfolio using miqcp minimizing risk2;\n",
    "display x.l;"
   ]
  },
  {
   "cell_type": "code",
   "execution_count": 26,
   "metadata": {},
   "outputs": [
    {
     "data": {
      "text/html": [
       "<div>\n",
       "<style scoped>\n",
       "    .dataframe tbody tr th:only-of-type {\n",
       "        vertical-align: middle;\n",
       "    }\n",
       "\n",
       "    .dataframe tbody tr th {\n",
       "        vertical-align: top;\n",
       "    }\n",
       "\n",
       "    .dataframe thead th {\n",
       "        text-align: right;\n",
       "    }\n",
       "</style>\n",
       "<table border=\"1\" class=\"dataframe\">\n",
       "  <thead>\n",
       "    <tr style=\"text-align: right;\">\n",
       "      <th></th>\n",
       "      <th>level</th>\n",
       "      <th>marginal</th>\n",
       "      <th>lower</th>\n",
       "      <th>upper</th>\n",
       "      <th>scale</th>\n",
       "    </tr>\n",
       "    <tr>\n",
       "      <th>i</th>\n",
       "      <th></th>\n",
       "      <th></th>\n",
       "      <th></th>\n",
       "      <th></th>\n",
       "      <th></th>\n",
       "    </tr>\n",
       "  </thead>\n",
       "  <tbody>\n",
       "    <tr>\n",
       "      <td>MKTX</td>\n",
       "      <td>0.055955</td>\n",
       "      <td>4.940656e-324</td>\n",
       "      <td>0.0</td>\n",
       "      <td>inf</td>\n",
       "      <td>1.0</td>\n",
       "    </tr>\n",
       "    <tr>\n",
       "      <td>Disney</td>\n",
       "      <td>0.299341</td>\n",
       "      <td>0.000000e+00</td>\n",
       "      <td>0.0</td>\n",
       "      <td>inf</td>\n",
       "      <td>1.0</td>\n",
       "    </tr>\n",
       "    <tr>\n",
       "      <td>Eros</td>\n",
       "      <td>0.644705</td>\n",
       "      <td>0.000000e+00</td>\n",
       "      <td>0.0</td>\n",
       "      <td>inf</td>\n",
       "      <td>1.0</td>\n",
       "    </tr>\n",
       "  </tbody>\n",
       "</table>\n",
       "</div>"
      ],
      "text/plain": [
       "           level       marginal  lower  upper  scale\n",
       "i                                                   \n",
       "MKTX    0.055955  4.940656e-324    0.0    inf    1.0\n",
       "Disney  0.299341   0.000000e+00    0.0    inf    1.0\n",
       "Eros    0.644705   0.000000e+00    0.0    inf    1.0"
      ]
     },
     "execution_count": 26,
     "metadata": {},
     "output_type": "execute_result"
    }
   ],
   "source": [
    "%gams_pull -d x\n",
    "soln=x.loc[x['level'] > 0]\n",
    "soln.set_index('i',inplace=True)\n",
    "soln.sort_values(by='level')"
   ]
  },
  {
   "cell_type": "code",
   "execution_count": 27,
   "metadata": {},
   "outputs": [
    {
     "data": {
      "image/png": "[encoded data removed]",
      "text/plain": [
       "<Figure size 432x288 with 1 Axes>"
      ]
     },
     "metadata": {},
     "output_type": "display_data"
    }
   ],
   "source": [
    "showx = x.loc[x['level'] > 0]\n",
    "labels = showx['i']\n",
    "sizes = showx['level']\n",
    "colors = ['yellowgreen', 'gold', 'lightskyblue', 'lightcoral']\n",
    "patches, texts = plt.pie(sizes, colors=colors, shadow=True, startangle=90)\n",
    "plt.legend(patches, labels, loc=\"best\")\n",
    "plt.title('Percentage of 1000 Dollar invested in Stocks to Obtain 50$ return(5%) with 3 stocks')\n",
    "plt.axis('equal')\n",
    "plt.tight_layout()\n",
    "plt.show()\n",
    "\n"
   ]
  },
  {
   "cell_type": "code",
   "execution_count": 28,
   "metadata": {},
   "outputs": [
    {
     "name": "stdout",
     "output_type": "stream",
     "text": [
      "85.88115820848608\n"
     ]
    },
    {
     "name": "stderr",
     "output_type": "stream",
     "text": [
      "/opt/miniconda3/envs/JupyterHub/lib/python3.6/site-packages/IPython/core/interactiveshell.py:3058: DtypeWarning: Columns (0) have mixed types. Specify dtype option on import or set low_memory=False.\n",
      "  interactivity=interactivity, compiler=compiler, result=result)\n"
     ]
    }
   ],
   "source": [
    "##Predicting the next 30days using Moving Average from for 3 stocks with the objective of 50$\n",
    "\n",
    "# reading the data\n",
    "df = pd.read_csv('CLOSEDATA.csv')\n",
    "index_count = 0\n",
    "# setting up the dateFrame and data variable\n",
    "df['Date'] = pd.to_datetime(df.Date,format='%d-%m-%Y')\n",
    "df.index = df['Date']\n",
    "data = df.sort_index(ascending=True, axis=0)\n",
    "\n",
    "#1000$ investment\n",
    "budget = 1000\n",
    "movAverageprofit = 0\n",
    "pd.options.display.max_columns=None\n",
    "\n",
    "\n",
    "#companies used for analysis\n",
    "companies = [\"nordStorm\",\"ctlStock\",\"MylanStock\",\"MacyStock\",\"Kohls\",\"AMD\",\"MKTX\",\"Netflix\",\"Disney\",\"Eros\"]\n",
    "#closing Price Data at 10-10-2018\n",
    "ClosingPriceData = []\n",
    "\n",
    "#calculate the moving average\n",
    "for company in companies:\n",
    "    ClosingPriceData.append(data[\"10/10/2018\"][company])\n",
    "    train = data[:506][company]\n",
    "    preds = []\n",
    "    for mm in range(0,30):\n",
    "        a = train[:len(train)].sum() + sum(preds)\n",
    "        b = a/len(train)\n",
    "        preds.append(b)\n",
    "        \n",
    "    #preds[29] is the closing price after 30 days\n",
    "    numShares = budget * x[\"level\"][index_count] / ClosingPriceData[index_count][0]\n",
    "    movAverageprofit += (preds[29] -  ClosingPriceData[index_count][0] ) * numShares\n",
    "    index_count += 1    \n",
    "\n",
    "\n",
    "print(movAverageprofit)\n",
    "#50$ target is better supposedly give us 100$ return\n",
    "#but if you aim for 100$ you will end up with a loss of 10$"
   ]
  },
  {
   "cell_type": "code",
   "execution_count": 29,
   "metadata": {},
   "outputs": [
    {
     "name": "stderr",
     "output_type": "stream",
     "text": [
      "/opt/miniconda3/envs/JupyterHub/lib/python3.6/site-packages/pandas/core/indexing.py:205: SettingWithCopyWarning: \n",
      "A value is trying to be set on a copy of a slice from a DataFrame\n",
      "\n",
      "See the caveats in the documentation: http://pandas.pydata.org/pandas-docs/stable/user_guide/indexing.html#returning-a-view-versus-a-copy\n",
      "  self._setitem_with_indexer(indexer, value)\n",
      "/opt/miniconda3/envs/JupyterHub/lib/python3.6/site-packages/IPython/core/interactiveshell.py:3326: SettingWithCopyWarning: \n",
      "A value is trying to be set on a copy of a slice from a DataFrame\n",
      "\n",
      "See the caveats in the documentation: http://pandas.pydata.org/pandas-docs/stable/user_guide/indexing.html#returning-a-view-versus-a-copy\n",
      "  exec(code_obj, self.user_global_ns, self.user_ns)\n",
      "/opt/miniconda3/envs/JupyterHub/lib/python3.6/site-packages/pandas/core/indexing.py:205: SettingWithCopyWarning: \n",
      "A value is trying to be set on a copy of a slice from a DataFrame\n",
      "\n",
      "See the caveats in the documentation: http://pandas.pydata.org/pandas-docs/stable/user_guide/indexing.html#returning-a-view-versus-a-copy\n",
      "  self._setitem_with_indexer(indexer, value)\n",
      "/opt/miniconda3/envs/JupyterHub/lib/python3.6/site-packages/IPython/core/interactiveshell.py:3326: SettingWithCopyWarning: \n",
      "A value is trying to be set on a copy of a slice from a DataFrame\n",
      "\n",
      "See the caveats in the documentation: http://pandas.pydata.org/pandas-docs/stable/user_guide/indexing.html#returning-a-view-versus-a-copy\n",
      "  exec(code_obj, self.user_global_ns, self.user_ns)\n"
     ]
    },
    {
     "name": "stdout",
     "output_type": "stream",
     "text": [
      "[19.9438853]\n"
     ]
    },
    {
     "name": "stderr",
     "output_type": "stream",
     "text": [
      "/opt/miniconda3/envs/JupyterHub/lib/python3.6/site-packages/pandas/core/indexing.py:205: SettingWithCopyWarning: \n",
      "A value is trying to be set on a copy of a slice from a DataFrame\n",
      "\n",
      "See the caveats in the documentation: http://pandas.pydata.org/pandas-docs/stable/user_guide/indexing.html#returning-a-view-versus-a-copy\n",
      "  self._setitem_with_indexer(indexer, value)\n",
      "/opt/miniconda3/envs/JupyterHub/lib/python3.6/site-packages/IPython/core/interactiveshell.py:3326: SettingWithCopyWarning: \n",
      "A value is trying to be set on a copy of a slice from a DataFrame\n",
      "\n",
      "See the caveats in the documentation: http://pandas.pydata.org/pandas-docs/stable/user_guide/indexing.html#returning-a-view-versus-a-copy\n",
      "  exec(code_obj, self.user_global_ns, self.user_ns)\n",
      "/opt/miniconda3/envs/JupyterHub/lib/python3.6/site-packages/pandas/core/indexing.py:205: SettingWithCopyWarning: \n",
      "A value is trying to be set on a copy of a slice from a DataFrame\n",
      "\n",
      "See the caveats in the documentation: http://pandas.pydata.org/pandas-docs/stable/user_guide/indexing.html#returning-a-view-versus-a-copy\n",
      "  self._setitem_with_indexer(indexer, value)\n",
      "/opt/miniconda3/envs/JupyterHub/lib/python3.6/site-packages/IPython/core/interactiveshell.py:3326: SettingWithCopyWarning: \n",
      "A value is trying to be set on a copy of a slice from a DataFrame\n",
      "\n",
      "See the caveats in the documentation: http://pandas.pydata.org/pandas-docs/stable/user_guide/indexing.html#returning-a-view-versus-a-copy\n",
      "  exec(code_obj, self.user_global_ns, self.user_ns)\n",
      "/opt/miniconda3/envs/JupyterHub/lib/python3.6/site-packages/pandas/core/indexing.py:205: SettingWithCopyWarning: \n",
      "A value is trying to be set on a copy of a slice from a DataFrame\n",
      "\n",
      "See the caveats in the documentation: http://pandas.pydata.org/pandas-docs/stable/user_guide/indexing.html#returning-a-view-versus-a-copy\n",
      "  self._setitem_with_indexer(indexer, value)\n",
      "/opt/miniconda3/envs/JupyterHub/lib/python3.6/site-packages/IPython/core/interactiveshell.py:3326: SettingWithCopyWarning: \n",
      "A value is trying to be set on a copy of a slice from a DataFrame\n",
      "\n",
      "See the caveats in the documentation: http://pandas.pydata.org/pandas-docs/stable/user_guide/indexing.html#returning-a-view-versus-a-copy\n",
      "  exec(code_obj, self.user_global_ns, self.user_ns)\n",
      "/opt/miniconda3/envs/JupyterHub/lib/python3.6/site-packages/pandas/core/indexing.py:205: SettingWithCopyWarning: \n",
      "A value is trying to be set on a copy of a slice from a DataFrame\n",
      "\n",
      "See the caveats in the documentation: http://pandas.pydata.org/pandas-docs/stable/user_guide/indexing.html#returning-a-view-versus-a-copy\n",
      "  self._setitem_with_indexer(indexer, value)\n",
      "/opt/miniconda3/envs/JupyterHub/lib/python3.6/site-packages/IPython/core/interactiveshell.py:3326: SettingWithCopyWarning: \n",
      "A value is trying to be set on a copy of a slice from a DataFrame\n",
      "\n",
      "See the caveats in the documentation: http://pandas.pydata.org/pandas-docs/stable/user_guide/indexing.html#returning-a-view-versus-a-copy\n",
      "  exec(code_obj, self.user_global_ns, self.user_ns)\n",
      "/opt/miniconda3/envs/JupyterHub/lib/python3.6/site-packages/pandas/core/indexing.py:205: SettingWithCopyWarning: \n",
      "A value is trying to be set on a copy of a slice from a DataFrame\n",
      "\n",
      "See the caveats in the documentation: http://pandas.pydata.org/pandas-docs/stable/user_guide/indexing.html#returning-a-view-versus-a-copy\n",
      "  self._setitem_with_indexer(indexer, value)\n",
      "/opt/miniconda3/envs/JupyterHub/lib/python3.6/site-packages/IPython/core/interactiveshell.py:3326: SettingWithCopyWarning: \n",
      "A value is trying to be set on a copy of a slice from a DataFrame\n",
      "\n",
      "See the caveats in the documentation: http://pandas.pydata.org/pandas-docs/stable/user_guide/indexing.html#returning-a-view-versus-a-copy\n",
      "  exec(code_obj, self.user_global_ns, self.user_ns)\n",
      "/opt/miniconda3/envs/JupyterHub/lib/python3.6/site-packages/pandas/core/indexing.py:205: SettingWithCopyWarning: \n",
      "A value is trying to be set on a copy of a slice from a DataFrame\n",
      "\n",
      "See the caveats in the documentation: http://pandas.pydata.org/pandas-docs/stable/user_guide/indexing.html#returning-a-view-versus-a-copy\n",
      "  self._setitem_with_indexer(indexer, value)\n",
      "/opt/miniconda3/envs/JupyterHub/lib/python3.6/site-packages/IPython/core/interactiveshell.py:3326: SettingWithCopyWarning: \n",
      "A value is trying to be set on a copy of a slice from a DataFrame\n",
      "\n",
      "See the caveats in the documentation: http://pandas.pydata.org/pandas-docs/stable/user_guide/indexing.html#returning-a-view-versus-a-copy\n",
      "  exec(code_obj, self.user_global_ns, self.user_ns)\n",
      "/opt/miniconda3/envs/JupyterHub/lib/python3.6/site-packages/pandas/core/indexing.py:205: SettingWithCopyWarning: \n",
      "A value is trying to be set on a copy of a slice from a DataFrame\n",
      "\n",
      "See the caveats in the documentation: http://pandas.pydata.org/pandas-docs/stable/user_guide/indexing.html#returning-a-view-versus-a-copy\n",
      "  self._setitem_with_indexer(indexer, value)\n",
      "/opt/miniconda3/envs/JupyterHub/lib/python3.6/site-packages/IPython/core/interactiveshell.py:3326: SettingWithCopyWarning: \n",
      "A value is trying to be set on a copy of a slice from a DataFrame\n",
      "\n",
      "See the caveats in the documentation: http://pandas.pydata.org/pandas-docs/stable/user_guide/indexing.html#returning-a-view-versus-a-copy\n",
      "  exec(code_obj, self.user_global_ns, self.user_ns)\n",
      "/opt/miniconda3/envs/JupyterHub/lib/python3.6/site-packages/pandas/core/indexing.py:205: SettingWithCopyWarning: \n",
      "A value is trying to be set on a copy of a slice from a DataFrame\n",
      "\n",
      "See the caveats in the documentation: http://pandas.pydata.org/pandas-docs/stable/user_guide/indexing.html#returning-a-view-versus-a-copy\n",
      "  self._setitem_with_indexer(indexer, value)\n",
      "/opt/miniconda3/envs/JupyterHub/lib/python3.6/site-packages/IPython/core/interactiveshell.py:3326: SettingWithCopyWarning: \n",
      "A value is trying to be set on a copy of a slice from a DataFrame\n",
      "\n",
      "See the caveats in the documentation: http://pandas.pydata.org/pandas-docs/stable/user_guide/indexing.html#returning-a-view-versus-a-copy\n",
      "  exec(code_obj, self.user_global_ns, self.user_ns)\n"
     ]
    }
   ],
   "source": [
    "##Predicting the next 30days data of each stock using Linear Regression for 3 stocks with the objective of 50$\n",
    "FutureClosingPrice = []\n",
    "\n",
    "count = 0\n",
    "budget = 1000;\n",
    "profit = 0\n",
    "for index in companies:\n",
    "    \n",
    "    df = data[:506][index]\n",
    "    # A variable for predicting 'n' days out into the future\n",
    "    forecast_out = 30 #'n=30' days\n",
    "    #Create another column (the target ) shifted 'n' units up\n",
    "    df['Prediction'] = data[:506][index].shift(-forecast_out)\n",
    "    ### Create the independent data set (X)  #######\n",
    "    # Convert the dataframe to a numpy array\n",
    "    X = np.array(df.drop(['Prediction']))\n",
    "    #Remove the last '30' rows\n",
    "    X = X[:-forecast_out]\n",
    "    ### Create the dependent data set (y)  #####\n",
    "    # Convert the dataframe to a numpy array \n",
    "    y = np.array(df['Prediction'])\n",
    "    # Get all of the y values except the last '30' rows\n",
    "    y = y[:-forecast_out]\n",
    "    x_train, x_test, y_train, y_test = train_test_split(X, y, test_size=0.2)\n",
    "    #make y_train,x_train,x_test,y_test 2D array; required for formatting\n",
    "    y_train= y_train.reshape(-1, 1)\n",
    "    x_train= x_train.reshape(-1, 1)\n",
    "    x_test = x_test.reshape(-1, 1)\n",
    "    y_test = y_test.reshape(-1, 1)\n",
    "    #clear out all the nans, required for formatting\n",
    "    ind = np.isnan(y_test)\n",
    "    y_test[ind] = 0;\n",
    "    ind = np.isnan(y_train)\n",
    "    y_train[ind] = 0;\n",
    "    # Create and train the Linear Regression  Model\n",
    "    lr = LinearRegression()\n",
    "    # Train the model\n",
    "    lr.fit(x_train, y_train)\n",
    "    #clear out all the nans, required for formattin\n",
    "    ind = np.isnan(y_test)\n",
    "    y_test[ind] = 0;\n",
    "    # Testing Model: Score returns the coefficient of determination R^2 of the prediction. \n",
    "    # The best possible score is 1.0\n",
    "    lr_confidence = lr.score(x_test, y_test)\n",
    "    x_forecast = np.array(X)[-forecast_out:]\n",
    "    #make x_forecast required for formatting\n",
    "    x_forecast= x_forecast.reshape(-1, 1)\n",
    "    lr_prediction = lr.predict(x_forecast)\n",
    "    FutureClosingPrice.append(lr_prediction[29]) \n",
    "    #profit1,numShares1 x= 50, profit2 x = 100\n",
    "    numShares = budget * x[\"level\"][count] / ClosingPriceData[count][0]\n",
    "    profit += (lr_prediction[29] -  ClosingPriceData[count][0] ) * numShares\n",
    "    count += 1\n",
    "\n",
    "print(profit)"
   ]
  },
  {
   "cell_type": "code",
   "execution_count": 30,
   "metadata": {},
   "outputs": [
    {
     "name": "stdout",
     "output_type": "stream",
     "text": [
      "19.943885298025926 from linear Regression 3 stocks objective of 50\n",
      "85.88115820848608 from Moving Average with 3 stocks objective of 50\n"
     ]
    }
   ],
   "source": [
    "#from linear regression\n",
    "print(profit[0], \"from linear Regression 3 stocks objective of 50\")\n",
    "#from moving average\n",
    "print(movAverageprofit, \"from Moving Average with 3 stocks objective of 50\")"
   ]
  },
  {
   "cell_type": "markdown",
   "metadata": {},
   "source": [
    "> Both linear Regression and Moving Average showed that we end up gaining money if we aim to make 50 dollar return with 3 stocks as well.However, investing in 4 stocks would be more profitable."
   ]
  },
  {
   "cell_type": "markdown",
   "metadata": {},
   "source": [
    "## Assumptions"
   ]
  },
  {
   "cell_type": "markdown",
   "metadata": {},
   "source": [
    "\n",
    ">1.The  assumptions are based on the Markowitz model [1],\n",
    "          \n",
    "          •Risk of a portfolio is based on the variability of returns from the said portfolio.\n",
    "          •An investor is risk averse.\n",
    "          •Analysis is based on single period model of investment.\n",
    "          •An investor either maximizes his portfolio return for a given level of risk or maximizes his return for \n",
    "            the minimum risk.\n",
    "          •An investor is rational in nature.\n",
    "         \n",
    "> 2. We don’t allow the investor to short sell.\n",
    "\n",
    "> 3.There will be no transaction costs when stocks are purchased.\n",
    "\n",
    "> 4. There are only ten stocks to invest in – \n",
    "nordStorm,ctlStock,MylanStock,MacyStock,Kohls,AMD,MKTX,Netflix,Disney,Eros. \n",
    "The closing prices for these stocks are taken from \" https://www.tiingo.com/ \"and tabulated in excel sheet attached in the.zip \n",
    "folder.The mean and covariance is calculated using Excel.\n",
    "\n",
    "> 5. We assumed different scenarios to compare and analysis the better portfolio amongst them such as,\n",
    "   > (i) Having a return of 100 dollars or 50 dollars.\n",
    "   >(ii) Choosing over 4 or 3 stocks to invest in.\n",
    "   \n",
    "> 6. We use two different methods to predict the future prices over the 30 days (2018-10-10 to 2018-11-09):\n",
    "    >(i) Using linear regression\n",
    "    >(ii) Using Moving Average"
   ]
  },
  {
   "cell_type": "markdown",
   "metadata": {},
   "source": [
    "# Conclusion:\n",
    "\n",
    "From the portfolio model, we can arrive at the following conclusions:\n",
    "\n"
   ]
  },
  {
   "cell_type": "markdown",
   "metadata": {},
   "source": [
    ">       1. Investing in 4 stocks gives a better return than investing in 3 stocks as indicated by both the linear regression and moving average models. It also reduces the loss in case, a loss occurs. As seen from the model, investing in 4 stocks for a return of 100 dollars results in lesser loss than investing in 3 stocks.\n",
    "    \n",
    ">       2. Setting a target of 100 dollars return for a budget of 1000 dollars is a bad choice.It results in investment in stocks with  higher fluctuations (more variance) but ends up with a loss at the end of one month as indicated by both  the moving average and linear regression methods as seen above. This is in accordance with the Markowitz Model, \"Risk of a portfolio is based on the variability of returns from the said portfolio.[1]\".  Setting a target of 50 dollars return for a budget of 1000 dollars is a better choice. It results in investment in stocks with lesser fluctuations (less variance) and gives a profitable return at the end of one month as indicated by both the models. It nearly achieves the set target or maybe more.\n",
    "\n",
    " >      3. Nearly 50% or more of the total budget is invested in the entertainment sector in all the scenarios. This indicates that more diversification does not necessarily yield more return or is based on lesser risk.\n",
    "\n",
    " >      4. The linear regression model fits the real world expectation of stock prices better than the moving average model.  The fluctuations in price are accounted in the linear regression model while in the moving average, the prediction is a linear increase over the entire time period taken. Thus, the results from the linear regression model could be considered more reliable."
   ]
  },
  {
   "cell_type": "markdown",
   "metadata": {},
   "source": [
    " > In conclusion, we found that investing in 4 stocks for a return of 50 dollars is the best performing portfolio for a budget of 1000 dollars and a time period of 30 days.(10th of October 2018 to 9th of November 2018)."
   ]
  },
  {
   "cell_type": "markdown",
   "metadata": {},
   "source": [
    "## References:\n",
    "\n",
    "> [1] https://en.wikipedia.org/wiki/Markowitz_model\n",
    "\n",
    "> [2] https://www2.isye.gatech.edu/~sahmed/isye6669/notes/portfolio"
   ]
  },
  {
   "cell_type": "code",
   "execution_count": null,
   "metadata": {},
   "outputs": [],
   "source": []
  }
 ],
 "metadata": {
  "kernelspec": {
   "display_name": "Python 3",
   "language": "python",
   "name": "python3"
  },
  "language_info": {
   "codemirror_mode": {
    "name": "ipython",
    "version": 3
   },
   "file_extension": ".py",
   "mimetype": "text/x-python",
   "name": "python",
   "nbconvert_exporter": "python",
   "pygments_lexer": "ipython3",
   "version": "3.6.9"
  }
 },
 "nbformat": 4,
 "nbformat_minor": 2
}
